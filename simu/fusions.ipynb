{
 "cells": [
  {
   "cell_type": "code",
   "execution_count": null,
   "metadata": {},
   "outputs": [],
   "source": [
    "import os\n",
    "import numpy as np\n",
    "import pandas as pd\n",
    "import pybedtools\n",
    "import simu\n",
    "import subprocess\n",
    "from pybedtools import BedTool\n",
    "\n",
    "# high-level parameters\n",
    "seed_init = 123\n",
    "n_vars = 10\n",
    "n_background_genes = 100\n",
    "min_exons = 3\n",
    "\n",
    "# simulation parameters\n",
    "n_exons = 2\n",
    "block_range = (30, 200)\n",
    "ins_range = (7, 50)\n",
    "\n",
    "# read generation parameters\n",
    "fold = 50\n",
    "frag_size = 300\n",
    "frag_sd = 20\n",
    "read_len = 150\n",
    "\n",
    "# references/output files\n",
    "art_illumina = '/Users/marek.cmero/apps/art_bin_MountRainier/ART_ILLUMINA'\n",
    "genome_fasta = '/Users/marek.cmero/reference/fastas/Homo_sapiens.GRCh38.dna.primary_assembly.fa'\n",
    "gtf_ref = '/Users/marek.cmero/reference/gtf/chess_mini_chr12_ref.gtf'\n",
    "out_prefix = '/Users/marek.cmero/Desktop/output/fusions'\n",
    "control_fasta = '%s-control.fasta' % out_prefix\n",
    "case_fasta = '%s-case.fasta' % out_prefix"
   ]
  },
  {
   "cell_type": "code",
   "execution_count": null,
   "metadata": {},
   "outputs": [],
   "source": [
    "# build GTF reference\n",
    "gr = BedTool(gtf_ref)\n",
    "\n",
    "# make gene start/end reference\n",
    "gene_trees = simu.get_gene_features(gr)\n",
    "\n",
    "# get valid transcripts\n",
    "all_exons = gr.filter(lambda x: x[2] == 'exon').saveas()\n",
    "\n",
    "# get valid txs\n",
    "valid_txs, valid_genes = simu.get_valid_txs(all_exons, min_exons)\n",
    "valid_txs = np.unique([tx for tx, gn in valid_txs])\n",
    "fus_info = []\n",
    "\n",
    "# params dict\n",
    "params = {'n_exons': n_exons,\n",
    "         'block_range': block_range,\n",
    "         'out_prefix': out_prefix}\n",
    "\n",
    "# cleanup and make outdir\n",
    "if os.path.exists(control_fasta):\n",
    "    os.remove(control_fasta)\n",
    "if os.path.exists(case_fasta):\n",
    "    os.remove(case_fasta)\n",
    "outdir = '/'.join(out_prefix.split('/')[:-1])\n",
    "subprocess.call(['mkdir', '-p', outdir])"
   ]
  },
  {
   "cell_type": "markdown",
   "metadata": {},
   "source": [
    "## Generate canonical fusions\n",
    "\n",
    "Select `n_vars` random genes with `n_vars` random partners and fuse first `n_exons` exons to `n_exons` terminal exons."
   ]
  },
  {
   "cell_type": "code",
   "execution_count": null,
   "metadata": {},
   "outputs": [],
   "source": [
    "%%time\n",
    "\n",
    "# pick fusion genes\n",
    "np.random.seed(seed_init)\n",
    "fus_genes, available_genes = simu.pick_genes(n_vars * 2, available_genes)\n",
    "fusions = zip(fus_genes[:n_vars], fus_genes[n_vars:])\n",
    "\n",
    "# make fusion genes\n",
    "for gene1, gene2 in fusions:\n",
    "    print('Generating %s:%s fusion...' % (gene1, gene2))\n",
    "\n",
    "    # select first transcript from each gene\n",
    "    tx1 = simu.get_transcripts(gene1, all_exons, valid_txs)[0]\n",
    "    tx2 = simu.get_transcripts(gene2, all_exons, valid_txs)[0]\n",
    "\n",
    "    fus_parts = simu.write_fusion(tx1, tx2, all_exons, genome_fasta, params, gene_trees)\n",
    "    fus_parts.extend(['(%s:%s)' % (gene1, gene2), 'canonical_fusion'])\n",
    "    fus_info.append(fus_parts)"
   ]
  },
  {
   "cell_type": "markdown",
   "metadata": {},
   "source": [
    "## Generate unpartnered fusions"
   ]
  },
  {
   "cell_type": "code",
   "execution_count": null,
   "metadata": {
    "scrolled": true
   },
   "outputs": [],
   "source": [
    "%%time\n",
    "var_genes = fus_genes.copy()\n",
    "ufus_genes, available_genes = simu.pick_genes(n_vars, available_genes)\n",
    "\n",
    "for idx, gene in enumerate(ufus_genes):\n",
    "    print('Generating %s unpartnered fusion...' % gene)\n",
    "                                          \n",
    "    # select first transcript from each gene\n",
    "    tx = simu.get_transcripts(gene1, all_exons, valid_txs)[0]\n",
    "        \n",
    "    fus_parts = simu.write_fusion(tx, None, all_exons, genome_fasta, params, gene_trees)\n",
    "    fus_parts.extend(['(%s:)' % (gene), 'unpartnered_fusion'])\n",
    "    fus_info.append(fus_parts) "
   ]
  },
  {
   "cell_type": "markdown",
   "metadata": {},
   "source": [
    "## Fusions with extended exon at boundary"
   ]
  },
  {
   "cell_type": "code",
   "execution_count": null,
   "metadata": {},
   "outputs": [],
   "source": [
    "%%time\n",
    "# pick fusion genes\n",
    "efus_genes, available_genes = simu.pick_genes(n_vars * 2, available_genes)\n",
    "\n",
    "# make fusion genes\n",
    "fusions = zip(efus_genes[:n_vars], efus_genes[n_vars:])\n",
    "for gene1, gene2 in fusions:\n",
    "    print('Generating %s:%s fusion with extended exon...' % (gene1, gene2))\n",
    "\n",
    "    # select first transcript from each gene\n",
    "    tx1 = simu.get_transcripts(gene1, all_exons, valid_txs)[0]\n",
    "    tx2 = simu.get_transcripts(gene2, all_exons, valid_txs)[0]\n",
    "\n",
    "    fus_parts = simu.write_fusion(tx1, tx2, all_exons, genome_fasta, params, gene_trees, add='EE')\n",
    "    fus_parts.extend(['(%s:%s)' % (gene1, gene2), 'EE_fusion'])\n",
    "    fus_info.append(fus_parts)"
   ]
  },
  {
   "cell_type": "markdown",
   "metadata": {},
   "source": [
    "## Fusions with novel exons at boundary"
   ]
  },
  {
   "cell_type": "code",
   "execution_count": null,
   "metadata": {
    "scrolled": true
   },
   "outputs": [],
   "source": [
    "%%time\n",
    "# pick fusion genes\n",
    "nfus_genes, available_genes = simu.pick_genes(n_vars * 2, available_genes)\n",
    "\n",
    "# make fusion genes\n",
    "fusions = zip(nfus_genes[:n_vars], nfus_genes[n_vars:])\n",
    "for gene1, gene2 in fusions:\n",
    "    print('Generating %s:%s fusion with novel exon...' % (gene1, gene2))\n",
    "\n",
    "    # select first transcript from each gene\n",
    "    tx1 = simu.get_transcripts(gene1, all_exons, valid_txs)[0]\n",
    "    tx2 = simu.get_transcripts(gene2, all_exons, valid_txs)[0]\n",
    "\n",
    "    fus_parts = simu.write_fusion(tx1, tx2, all_exons, genome_fasta, params, gene_trees, add='NE')\n",
    "    fus_parts.extend(['(%s:%s)' % (gene1, gene2), 'NE_fusion'])\n",
    "    fus_info.append(fus_parts)"
   ]
  },
  {
   "cell_type": "markdown",
   "metadata": {},
   "source": [
    "## Fusions with insertions at boundary"
   ]
  },
  {
   "cell_type": "code",
   "execution_count": null,
   "metadata": {},
   "outputs": [],
   "source": [
    "%%time\n",
    "# pick fusion genes\n",
    "ifus_genes, available_genes = simu.pick_genes(n_vars * 2, available_genes)\n",
    "\n",
    "# make fusion genes\n",
    "fusions = zip(ifus_genes[:n_vars], ifus_genes[n_vars:])\n",
    "for gene1, gene2 in fusions:\n",
    "    print('Generating %s:%s fusion with a boundary insertion...' % (gene1, gene2))\n",
    "\n",
    "    # select first transcript from each gene\n",
    "    tx1 = simu.get_transcripts(gene1, all_exons, valid_txs)[0]\n",
    "    tx2 = simu.get_transcripts(gene2, all_exons, valid_txs)[0]\n",
    "\n",
    "    fus_parts = simu.write_fusion(tx1, tx2, all_exons, genome_fasta, params, gene_trees, add='INS')\n",
    "    fus_parts.extend(['(%s:%s)' % (gene1, gene2), 'INS_fusion'])\n",
    "    fus_info.append(fus_parts)"
   ]
  },
  {
   "cell_type": "markdown",
   "metadata": {},
   "source": [
    "## Write background genes"
   ]
  },
  {
   "cell_type": "code",
   "execution_count": null,
   "metadata": {},
   "outputs": [],
   "source": [
    "%%time\n",
    "bg_set, available_genes = simu.pick_genes(n_background_genes, available_genes)\n",
    "for gene in bg_set:\n",
    "    tx = simu.get_transcripts(gene, all_exons, valid_txs=valid_txs)[0]\n",
    "    exons = all_exons.filter(lambda x: x['transcript_id'] == tx).saveas()\n",
    "    tx_seq, strand = simu.get_seq(exons, genome_fasta)\n",
    "    simu.write_wildtype_sequence(tx_seq, strand, control_fasta, tx)\n",
    "    simu.write_wildtype_sequence(tx_seq, strand, case_fasta, tx)"
   ]
  },
  {
   "cell_type": "markdown",
   "metadata": {},
   "source": [
    "## Generate reads with Art"
   ]
  },
  {
   "cell_type": "code",
   "execution_count": null,
   "metadata": {},
   "outputs": [],
   "source": [
    "%%time\n",
    "# generate reads with art illumina\n",
    "seeds = np.random.randint(0, 99999, 2)\n",
    "\n",
    "# generate case sample\n",
    "subprocess.call([art_illumina, '-ss', 'HS25', '-i', case_fasta, \n",
    "                 '-p', '-l', str(read_len), '-f', str(fold), '-m', str(frag_size),\n",
    "                 '-s', str(frag_sd), '-rs', str(seeds[0]), '-o', '%s-case_R' % out_prefix])\n",
    "\n",
    "# generate control\n",
    "subprocess.call([art_illumina, '-ss', 'HS25', '-i', control_fasta, \n",
    "             '-p', '-l', str(read_len), '-f', str(fold), '-m', str(frag_size),\n",
    "             '-s', str(frag_sd), '-rs', str(seeds[1]), '-o', '%s-control_R' % out_prefix])"
   ]
  },
  {
   "cell_type": "code",
   "execution_count": null,
   "metadata": {},
   "outputs": [],
   "source": [
    "%%time\n",
    "for sample in ['case', 'control']:\n",
    "    for r in range(2):\n",
    "        outf = open('%s-%s_R%d.fastq.gz' % (out_prefix, sample, (r+1)), 'w')\n",
    "        subprocess.call(['gzip', '-c', '%s-%s_R%d.fq' % (out_prefix, sample, (r+1))], stdout=outf)\n",
    "        outf.close()"
   ]
  },
  {
   "cell_type": "markdown",
   "metadata": {},
   "source": [
    "## Write details for fusions simulated"
   ]
  },
  {
   "cell_type": "code",
   "execution_count": null,
   "metadata": {},
   "outputs": [],
   "source": [
    "fus_info = pd.DataFrame(fus_txs, columns=['tx1', 'insert', 'tx2', 'fusion', 'type'])\n",
    "fus_info['gene1'] = fus_info.fusion.apply(lambda x: x.split(':')[0][1:])\n",
    "fus_info['gene2'] = fus_info.fusion.apply(lambda x: x.split(':')[1][:-1])\n",
    "del fus_info['fusion']\n",
    "fus_info.to_csv('%s_simulated.tsv' % out_prefix, index=False, sep='\\t')"
   ]
  }
 ],
 "metadata": {
  "kernelspec": {
   "display_name": "Python 3",
   "language": "python",
   "name": "python3"
  },
  "language_info": {
   "codemirror_mode": {
    "name": "ipython",
    "version": 3
   },
   "file_extension": ".py",
   "mimetype": "text/x-python",
   "name": "python",
   "nbconvert_exporter": "python",
   "pygments_lexer": "ipython3",
   "version": "3.6.6"
  }
 },
 "nbformat": 4,
 "nbformat_minor": 2
}
