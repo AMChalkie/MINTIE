{
 "cells": [
  {
   "cell_type": "code",
   "execution_count": 1,
   "metadata": {},
   "outputs": [],
   "source": [
    "import os\n",
    "import numpy as np\n",
    "import pandas as pd\n",
    "import pybedtools\n",
    "import simu\n",
    "import subprocess\n",
    "from pybedtools import BedTool\n",
    "\n",
    "# high-level parameters\n",
    "seed_init = 123\n",
    "n_vars = 10\n",
    "n_background_genes = 100\n",
    "min_exons = 3\n",
    "\n",
    "# simulation parameters\n",
    "n_exons = 2\n",
    "block_range = (30, 200)\n",
    "ins_range = (7, 50)\n",
    "\n",
    "# read generation parameters\n",
    "fold = 50\n",
    "frag_size = 300\n",
    "frag_sd = 20\n",
    "read_len = 150\n",
    "\n",
    "# references/output files\n",
    "art_illumina = '/Users/marek.cmero/apps/art_bin_MountRainier/ART_ILLUMINA'\n",
    "genome_fasta = '/Users/marek.cmero/reference/fastas/Homo_sapiens.GRCh38.dna.primary_assembly.fa'\n",
    "gtf_ref = '/Users/marek.cmero/reference/gtf/chess_mini_chr12_ref.gtf'\n",
    "out_prefix = '/Users/marek.cmero/Desktop/output/fusions'\n",
    "control_fasta = '%s-control.fasta' % out_prefix\n",
    "case_fasta = '%s-case.fasta' % out_prefix"
   ]
  },
  {
   "cell_type": "code",
   "execution_count": 2,
   "metadata": {},
   "outputs": [
    {
     "data": {
      "text/plain": [
       "0"
      ]
     },
     "execution_count": 2,
     "metadata": {},
     "output_type": "execute_result"
    }
   ],
   "source": [
    "# build GTF reference\n",
    "gr = BedTool(gtf_ref)\n",
    "\n",
    "# make gene start/end reference\n",
    "gene_trees = simu.get_gene_features(gr)\n",
    "\n",
    "# get valid transcripts\n",
    "all_exons = gr.filter(lambda x: x[2] == 'exon').saveas()\n",
    "all_genes = np.unique([simu.get_gene_name(ex) for ex in all_exons if simu.get_gene_name(ex)!=''])\n",
    "\n",
    "# get valid txs\n",
    "valid_txs, valid_genes = simu.get_valid_txs(all_exons, min_exons)\n",
    "valid_txs = np.unique([tx for tx, gn in valid_txs])\n",
    "available_genes = [gene for gene in all_genes if gene in valid_genes]\n",
    "fus_info = []\n",
    "\n",
    "# params dict\n",
    "params = {'n_exons': n_exons,\n",
    "          'ins_range': ins_range,\n",
    "          'block_range': block_range,\n",
    "          'out_prefix': out_prefix}\n",
    "\n",
    "# cleanup and make outdir\n",
    "if os.path.exists(control_fasta):\n",
    "    os.remove(control_fasta)\n",
    "if os.path.exists(case_fasta):\n",
    "    os.remove(case_fasta)\n",
    "outdir = '/'.join(out_prefix.split('/')[:-1])\n",
    "subprocess.call(['mkdir', '-p', outdir])"
   ]
  },
  {
   "cell_type": "markdown",
   "metadata": {},
   "source": [
    "## Generate canonical fusions\n",
    "\n",
    "Select `n_vars` random genes with `n_vars` random partners and fuse first `n_exons` exons to `n_exons` terminal exons."
   ]
  },
  {
   "cell_type": "code",
   "execution_count": 3,
   "metadata": {},
   "outputs": [
    {
     "name": "stdout",
     "output_type": "stream",
     "text": [
      "Generating NCKAP1L:ALKBH2 fusion...\n",
      "Generating LOC105369676:FAM216A fusion...\n",
      "Generating DIABLO:LOC105370063 fusion...\n",
      "Generating NOP2:SLC6A13 fusion...\n",
      "Generating MRPS35:LOC105369758 fusion...\n",
      "Generating WNT10B:ANKRD33 fusion...\n",
      "Generating ESPL1:DHH fusion...\n",
      "Generating RNFT2:LINC01559 fusion...\n",
      "Generating MYF5:YARS2 fusion...\n",
      "Generating ARL6IP4:NRIP2 fusion...\n",
      "CPU times: user 2min 17s, sys: 877 ms, total: 2min 18s\n",
      "Wall time: 2min 20s\n"
     ]
    }
   ],
   "source": [
    "%%time\n",
    "\n",
    "# pick fusion genes\n",
    "np.random.seed(seed_init)\n",
    "fus_genes, available_genes = simu.pick_genes(n_vars * 2, available_genes)\n",
    "fusions = zip(fus_genes[:n_vars], fus_genes[n_vars:])\n",
    "\n",
    "# make fusion genes\n",
    "for gene1, gene2 in fusions:\n",
    "    print('Generating %s:%s fusion...' % (gene1, gene2))\n",
    "\n",
    "    # select first transcript from each gene\n",
    "    tx1 = simu.get_transcripts(gene1, all_exons, valid_txs)[0]\n",
    "    tx2 = simu.get_transcripts(gene2, all_exons, valid_txs)[0]\n",
    "\n",
    "    fus_parts = simu.write_fusion((tx1, tx2), (gene1, gene2), all_exons,\n",
    "                                  genome_fasta, params, gene_trees)\n",
    "    fus_info.append(fus_parts)"
   ]
  },
  {
   "cell_type": "markdown",
   "metadata": {},
   "source": [
    "## Generate unpartnered fusions"
   ]
  },
  {
   "cell_type": "code",
   "execution_count": 4,
   "metadata": {
    "scrolled": true
   },
   "outputs": [
    {
     "name": "stdout",
     "output_type": "stream",
     "text": [
      "Generating NAB2 unpartnered fusion...\n",
      "Generating SLC2A3 unpartnered fusion...\n",
      "Generating RPAP3 unpartnered fusion...\n",
      "Generating RACGAP1 unpartnered fusion...\n",
      "Generating LOC105369750 unpartnered fusion...\n",
      "Generating LOC107984516 unpartnered fusion...\n",
      "Generating LOC105369649 unpartnered fusion...\n",
      "Generating PIANP unpartnered fusion...\n",
      "Generating PRR13 unpartnered fusion...\n",
      "Generating IKZF4 unpartnered fusion...\n",
      "CPU times: user 1min 24s, sys: 693 ms, total: 1min 25s\n",
      "Wall time: 1min 26s\n"
     ]
    }
   ],
   "source": [
    "%%time\n",
    "ufus_genes, available_genes = simu.pick_genes(n_vars, available_genes)\n",
    "\n",
    "for idx, gene in enumerate(ufus_genes):\n",
    "    print('Generating %s unpartnered fusion...' % gene)\n",
    "                                          \n",
    "    tx = simu.get_transcripts(gene, all_exons, valid_txs)[0]\n",
    "    fus_parts = simu.write_fusion((tx, None), (gene, None), all_exons,\n",
    "                                  genome_fasta, params, gene_trees)\n",
    "\n",
    "    fus_info.append(fus_parts)"
   ]
  },
  {
   "cell_type": "markdown",
   "metadata": {},
   "source": [
    "## Fusions with extended exon at boundary"
   ]
  },
  {
   "cell_type": "code",
   "execution_count": 5,
   "metadata": {},
   "outputs": [
    {
     "name": "stdout",
     "output_type": "stream",
     "text": [
      "Generating LOC107984446:CTC-465D4.1 fusion with extended exon...\n",
      "Generating TAOK3:NANOGNB fusion with extended exon...\n",
      "Generating RP11-123M21.1:MLEC fusion with extended exon...\n",
      "Generating CLLU1OS:PRB1 fusion with extended exon...\n",
      "Generating LOC100507424:LOC105370044 fusion with extended exon...\n",
      "Generating TCP11L2:CPSF6 fusion with extended exon...\n",
      "Generating TRHDE:ESYT1 fusion with extended exon...\n",
      "Generating TCHP:MSI1 fusion with extended exon...\n",
      "Generating TMEM5-AS1:OVCH1 fusion with extended exon...\n",
      "Generating HOTAIR:AAAS fusion with extended exon...\n",
      "CPU times: user 2min 31s, sys: 1.36 s, total: 2min 33s\n",
      "Wall time: 2min 37s\n"
     ]
    }
   ],
   "source": [
    "%%time\n",
    "# pick fusion genes\n",
    "efus_genes, available_genes = simu.pick_genes(n_vars * 2, available_genes)\n",
    "\n",
    "# make fusion genes\n",
    "fusions = zip(efus_genes[:n_vars], efus_genes[n_vars:])\n",
    "for gene1, gene2 in fusions:\n",
    "    print('Generating %s:%s fusion with extended exon...' % (gene1, gene2))\n",
    "\n",
    "    # select first transcript from each gene\n",
    "    tx1 = simu.get_transcripts(gene1, all_exons, valid_txs)[0]\n",
    "    tx2 = simu.get_transcripts(gene2, all_exons, valid_txs)[0]\n",
    "\n",
    "    fus_parts = simu.write_fusion((tx1, tx2), (gene1, gene2), all_exons,\n",
    "                                  genome_fasta, params, gene_trees, add='EE')\n",
    "    fus_info.append(fus_parts)"
   ]
  },
  {
   "cell_type": "markdown",
   "metadata": {},
   "source": [
    "## Fusions with novel exons at boundary"
   ]
  },
  {
   "cell_type": "code",
   "execution_count": 6,
   "metadata": {
    "scrolled": true
   },
   "outputs": [
    {
     "name": "stdout",
     "output_type": "stream",
     "text": [
      "Generating GNB3:PRMT8 fusion with novel exon...\n",
      "Generating NANOG:PRDM4 fusion with novel exon...\n",
      "Generating LOC105370079:MRPL51 fusion with novel exon...\n",
      "Generating LOC102724960:TPH2 fusion with novel exon...\n",
      "Generating PKP2:IRAK3 fusion with novel exon...\n",
      "Generating DDX55:LOC105369853 fusion with novel exon...\n",
      "Generating USP15:LOC105379613 fusion with novel exon...\n",
      "Generating LOC101928471:KLRF1 fusion with novel exon...\n",
      "Generating LOC105369669:FAM222A fusion with novel exon...\n",
      "Generating C2CD5:NDUFA12 fusion with novel exon...\n",
      "CPU times: user 2min 31s, sys: 1.37 s, total: 2min 32s\n",
      "Wall time: 2min 36s\n"
     ]
    }
   ],
   "source": [
    "%%time\n",
    "# pick fusion genes\n",
    "nfus_genes, available_genes = simu.pick_genes(n_vars * 2, available_genes)\n",
    "\n",
    "# make fusion genes\n",
    "fusions = zip(nfus_genes[:n_vars], nfus_genes[n_vars:])\n",
    "for gene1, gene2 in fusions:\n",
    "    print('Generating %s:%s fusion with novel exon...' % (gene1, gene2))\n",
    "\n",
    "    # select first transcript from each gene\n",
    "    tx1 = simu.get_transcripts(gene1, all_exons, valid_txs)[0]\n",
    "    tx2 = simu.get_transcripts(gene2, all_exons, valid_txs)[0]\n",
    "\n",
    "    fus_parts = simu.write_fusion((tx1, tx2), (gene1, gene2), all_exons,\n",
    "                                  genome_fasta, params, gene_trees, add='NE')\n",
    "    fus_info.append(fus_parts)"
   ]
  },
  {
   "cell_type": "markdown",
   "metadata": {},
   "source": [
    "## Fusions with insertions at boundary"
   ]
  },
  {
   "cell_type": "code",
   "execution_count": 7,
   "metadata": {},
   "outputs": [
    {
     "name": "stdout",
     "output_type": "stream",
     "text": [
      "Generating TARBP2:GNPTAB fusion with a boundary insertion...\n",
      "Generating RP11-900F13.3:MYBPC1 fusion with a boundary insertion...\n",
      "Generating ATP6V0A2:TMEM116 fusion with a boundary insertion...\n",
      "Generating LOC105369592:CHPT1 fusion with a boundary insertion...\n",
      "Generating LOC107983948:LOC107984467 fusion with a boundary insertion...\n",
      "Generating GLT1D1:TUBA1A fusion with a boundary insertion...\n",
      "Generating CERS5:LOC105369639 fusion with a boundary insertion...\n",
      "Generating LOC105370080:LOC105369972 fusion with a boundary insertion...\n",
      "Generating USP5:NDUFA4L2 fusion with a boundary insertion...\n",
      "Generating RP3-473L9.4:TBC1D15 fusion with a boundary insertion...\n",
      "CPU times: user 2min 22s, sys: 1.09 s, total: 2min 23s\n",
      "Wall time: 2min 24s\n"
     ]
    }
   ],
   "source": [
    "%%time\n",
    "# pick fusion genes\n",
    "ifus_genes, available_genes = simu.pick_genes(n_vars * 2, available_genes)\n",
    "\n",
    "# make fusion genes\n",
    "fusions = zip(ifus_genes[:n_vars], ifus_genes[n_vars:])\n",
    "for gene1, gene2 in fusions:\n",
    "    print('Generating %s:%s fusion with a boundary insertion...' % (gene1, gene2))\n",
    "\n",
    "    # select first transcript from each gene\n",
    "    tx1 = simu.get_transcripts(gene1, all_exons, valid_txs)[0]\n",
    "    tx2 = simu.get_transcripts(gene2, all_exons, valid_txs)[0]\n",
    "\n",
    "    fus_parts = simu.write_fusion((tx1, tx2), (gene1, gene2), all_exons,\n",
    "                                  genome_fasta, params, gene_trees, add='INS')\n",
    "    fus_info.append(fus_parts)"
   ]
  },
  {
   "cell_type": "markdown",
   "metadata": {},
   "source": [
    "## Write background genes"
   ]
  },
  {
   "cell_type": "code",
   "execution_count": 8,
   "metadata": {},
   "outputs": [
    {
     "name": "stdout",
     "output_type": "stream",
     "text": [
      "CPU times: user 8min, sys: 3.55 s, total: 8min 3s\n",
      "Wall time: 8min 10s\n"
     ]
    }
   ],
   "source": [
    "%%time\n",
    "bg_set, available_genes = simu.pick_genes(n_background_genes, available_genes)\n",
    "for gene in bg_set:\n",
    "    tx = simu.get_transcripts(gene, all_exons, valid_txs=valid_txs)[0]\n",
    "    exons = all_exons.filter(lambda x: x['transcript_id'] == tx).saveas()\n",
    "    tx_seq, strand = simu.get_seq(exons, genome_fasta)\n",
    "    simu.write_wildtype_sequence(tx_seq, strand, control_fasta, tx)\n",
    "    simu.write_wildtype_sequence(tx_seq, strand, case_fasta, tx)"
   ]
  },
  {
   "cell_type": "markdown",
   "metadata": {},
   "source": [
    "## Generate reads with Art"
   ]
  },
  {
   "cell_type": "code",
   "execution_count": 9,
   "metadata": {},
   "outputs": [
    {
     "name": "stdout",
     "output_type": "stream",
     "text": [
      "CPU times: user 2.78 ms, sys: 11.5 ms, total: 14.3 ms\n",
      "Wall time: 8.81 s\n"
     ]
    }
   ],
   "source": [
    "%%time\n",
    "# generate reads with art illumina\n",
    "seeds = np.random.randint(0, 99999, 2)\n",
    "\n",
    "# generate case sample\n",
    "subprocess.call([art_illumina, '-ss', 'HS25', '-i', case_fasta, \n",
    "                 '-p', '-l', str(read_len), '-f', str(fold), '-m', str(frag_size),\n",
    "                 '-s', str(frag_sd), '-rs', str(seeds[0]), '-o', '%s-case_R' % out_prefix])\n",
    "\n",
    "# generate control\n",
    "subprocess.call([art_illumina, '-ss', 'HS25', '-i', control_fasta, \n",
    "             '-p', '-l', str(read_len), '-f', str(fold), '-m', str(frag_size),\n",
    "             '-s', str(frag_sd), '-rs', str(seeds[1]), '-o', '%s-control_R' % out_prefix])"
   ]
  },
  {
   "cell_type": "code",
   "execution_count": 10,
   "metadata": {},
   "outputs": [
    {
     "name": "stdout",
     "output_type": "stream",
     "text": [
      "CPU times: user 3.99 ms, sys: 17.1 ms, total: 21.1 ms\n",
      "Wall time: 9.75 s\n"
     ]
    }
   ],
   "source": [
    "%%time\n",
    "for sample in ['case', 'control']:\n",
    "    for r in range(2):\n",
    "        outf = open('%s-%s_R%d.fastq.gz' % (out_prefix, sample, (r+1)), 'w')\n",
    "        subprocess.call(['gzip', '-c', '%s-%s_R%d.fq' % (out_prefix, sample, (r+1))], stdout=outf)\n",
    "        outf.close()"
   ]
  },
  {
   "cell_type": "markdown",
   "metadata": {},
   "source": [
    "## Write details for fusions simulated"
   ]
  },
  {
   "cell_type": "code",
   "execution_count": 11,
   "metadata": {},
   "outputs": [],
   "source": [
    "fus_info = pd.DataFrame(fus_info, columns=['loc1', 'gene1', 'tx1', 'insert',\n",
    "                                           'loc2', 'gene2', 'tx2', 'fusion_type'])\n",
    "fus_info.to_csv('%s_simulated.tsv' % out_prefix, index=False, sep='\\t')"
   ]
  }
 ],
 "metadata": {
  "kernelspec": {
   "display_name": "Python 3",
   "language": "python",
   "name": "python3"
  },
  "language_info": {
   "codemirror_mode": {
    "name": "ipython",
    "version": 3
   },
   "file_extension": ".py",
   "mimetype": "text/x-python",
   "name": "python",
   "nbconvert_exporter": "python",
   "pygments_lexer": "ipython3",
   "version": "3.6.6"
  }
 },
 "nbformat": 4,
 "nbformat_minor": 2
}
