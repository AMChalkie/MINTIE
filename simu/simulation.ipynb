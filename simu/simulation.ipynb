{
 "cells": [
  {
   "cell_type": "code",
   "execution_count": 16,
   "metadata": {},
   "outputs": [],
   "source": [
    "import tempfile\n",
    "import numpy as np\n",
    "import pandas as pd\n",
    "import collections\n",
    "import re\n",
    "import os\n",
    "import subprocess\n",
    "import pybedtools\n",
    "from intervaltree import Interval, IntervalTree\n",
    "from pybedtools import BedTool\n",
    "from Bio import SeqIO"
   ]
  },
  {
   "cell_type": "code",
   "execution_count": 17,
   "metadata": {},
   "outputs": [],
   "source": [
    "# simulation parameters\n",
    "seed = 123\n",
    "n_genes_per_type = 10\n",
    "n_background_genes = 100\n",
    "n_controls = 5\n",
    "n_exons = 2 # fuse first N exons to last N exons\n",
    "min_exons = 3\n",
    "block_range = (20, 200)\n",
    "fold = 50\n",
    "frag_size = 300\n",
    "frag_sd = 20"
   ]
  },
  {
   "cell_type": "code",
   "execution_count": 18,
   "metadata": {},
   "outputs": [],
   "source": [
    "# references\n",
    "art_illumina = '/Users/marek.cmero/apps/art_bin_MountRainier/art_illumina'\n",
    "genome_fasta = '/Users/marek.cmero/reference/fastas/Homo_sapiens.GRCh38.dna.primary_assembly.fa'\n",
    "gtf_ref = '/Users/marek.cmero/reference/gtf/chess_mini_chr12_ref.gtf'\n",
    "fasta_out = 'cryptic_variants_simu.fasta'\n",
    "normal_ref = 'cryptic_variants_control.fasta'\n",
    "outdir = '/Users/marek.cmero/Desktop/output'\n",
    "\n",
    "# cleanup (from older runs)\n",
    "if os.path.exists(fasta_out):\n",
    "    os.remove(fasta_out)\n",
    "if os.path.exists(normal_ref):\n",
    "    os.remove(normal_ref)"
   ]
  },
  {
   "cell_type": "code",
   "execution_count": 19,
   "metadata": {},
   "outputs": [],
   "source": [
    "# functions\n",
    "def get_gene_name(row):\n",
    "    '''\n",
    "    Prevents KeyError if gene name missing\n",
    "    '''\n",
    "    try:\n",
    "        return row.attrs['gene_name']\n",
    "    except KeyError:\n",
    "        return ''\n",
    "    \n",
    "def get_seq(gr, fasta):\n",
    "    '''\n",
    "    Returns a dictionary of exon sequences\n",
    "    and the corresponding strand of the transcript\n",
    "    '''\n",
    "    block_seqs = gr.sequence(fi=fasta, s=True)\n",
    "    block_dict = collections.OrderedDict()\n",
    "    with tempfile.NamedTemporaryFile() as fa_tmp:\n",
    "        fa_tmp.write(bytes(open(block_seqs.seqfn).read(), 'utf-8'))\n",
    "        fa_tmp.flush()\n",
    "\n",
    "        for record in SeqIO.parse(fa_tmp.name, 'fasta'):\n",
    "            block_dict[record.id] = str(record.seq)\n",
    "\n",
    "    strand = re.search('\\(([-+])\\)', next(iter(block_dict.keys())))\n",
    "    assert strand\n",
    "    \n",
    "    return block_dict, strand.group(1)\n",
    "\n",
    "def write_sequence(seq_dict, strand, output_file, name):\n",
    "    '''\n",
    "    Writes sequence dictionary to output file\n",
    "    '''\n",
    "    seq = [seq_dict[ex] for ex in seq_dict.keys()]\n",
    "    seq = seq if strand == '+' else [s for s in reversed(seq)]\n",
    "\n",
    "    with open(output_file, 'a') as fout:\n",
    "        fout.write('>%s\\n' % name)\n",
    "        fout.write(''.join(seq) + '\\n')\n",
    "        \n",
    "def get_chrom_features(chrom, gr):\n",
    "    '''\n",
    "    Get all merged intervals on given chromosome\n",
    "    '''\n",
    "    chrom_features = gr.filter(lambda x: x.chrom == chrom).merge()    \n",
    "    chrom_features = [(g.start, g.end) for g in gr]\n",
    "    \n",
    "    chrom_tree = IntervalTree()\n",
    "    [chrom_tree.addi(s, e) for s, e in chrom_features]\n",
    "\n",
    "    return chrom_tree\n",
    "\n",
    "def get_random_block(chroms, block_range, gr, fasta):\n",
    "    '''\n",
    "    Get random block sequence for feature\n",
    "    not overlapping any other genomic features\n",
    "    '''    \n",
    "    block_size = np.random.randint(block_range[0], block_range[1])\n",
    "    chrom = np.random.choice(chroms)\n",
    "    chrom_features = get_chrom_features(chrom, gr)\n",
    "    \n",
    "    chr_range = chr_sizes[('chr%s' % chrom)]\n",
    "    block_start = np.random.randint(chr_range[0], chr_range[1]-block_size)\n",
    "    block_end = block_start + block_size        \n",
    "    \n",
    "    while chrom_features.overlaps(block_start, block_end):\n",
    "        block_start = np.random.randint(chr_range[0], chr_range[1]-block_size)\n",
    "        block_end = block_start + block_size\n",
    "    \n",
    "    strand = np.random.choice(['+','-'])\n",
    "    block_bed = '%s\\t%d\\t%d\\t.\\t1\\t%s' % (chrom, block_start, block_end, strand)\n",
    "    block_bt = BedTool(block_bed, from_string=True)\n",
    "    block_seq, bs = get_seq(block_bt, fasta)\n",
    "    \n",
    "    return block_seq"
   ]
  },
  {
   "cell_type": "code",
   "execution_count": 20,
   "metadata": {},
   "outputs": [
    {
     "name": "stdout",
     "output_type": "stream",
     "text": [
      "CPU times: user 9.21 s, sys: 257 ms, total: 9.47 s\n",
      "Wall time: 9.56 s\n"
     ]
    }
   ],
   "source": [
    "%%time\n",
    "# build GTF reference\n",
    "gr = BedTool(gtf_ref) \n",
    "\n",
    "# ensure each transcript in reference has at least N exons\n",
    "all_exons = gr.filter(lambda x: x[2] == 'exon').saveas()\n",
    "all_txs = [(tx['transcript_id'], get_gene_name(tx)) for tx in all_exons]\n",
    "valid_txs = pd.DataFrame(pd.Series(all_txs).value_counts(), columns=['exon_count'])\n",
    "valid_txs = valid_txs[valid_txs.exon_count >= min_exons]\n",
    "valid_txs = valid_txs.index.values\n",
    "\n",
    "all_genes = np.unique([gene for tx, gene in valid_txs if gene != ''])\n",
    "var_genes = np.empty(0)\n",
    "\n",
    "chr_sizes = pybedtools.chromsizes('hg38')\n",
    "chroms = np.unique([x.chrom for x in all_exons])"
   ]
  },
  {
   "cell_type": "markdown",
   "metadata": {},
   "source": [
    "## Generate canonical fusions\n",
    "\n",
    "Select `n_genes_per_type` random genes with `n_genes_per_type` random partners and fuse first `n_exons` exons to `n_exons` terminal exons."
   ]
  },
  {
   "cell_type": "code",
   "execution_count": 21,
   "metadata": {},
   "outputs": [
    {
     "name": "stdout",
     "output_type": "stream",
     "text": [
      "Generating NCKAP1L:ALKBH2 fusion...\n",
      "Generating LOC105369676:FAM216A fusion...\n",
      "Generating DIABLO:LOC105370063 fusion...\n",
      "Generating NOP2:SLC6A13 fusion...\n",
      "Generating MRPS35:LOC105369758 fusion...\n",
      "Generating WNT10B:ANKRD33 fusion...\n",
      "Generating ESPL1:DHH fusion...\n",
      "Generating RNFT2:LINC01559 fusion...\n",
      "Generating MYF5:YARS2 fusion...\n",
      "Generating ARL6IP4:NRIP2 fusion...\n",
      "CPU times: user 1min 3s, sys: 1.16 s, total: 1min 5s\n",
      "Wall time: 1min 6s\n"
     ]
    }
   ],
   "source": [
    "%%time\n",
    "# pick fusion genes\n",
    "np.random.seed(seed)\n",
    "fus_genes = np.random.choice(all_genes, n_genes_per_type * 2, replace=False)\n",
    "fusions = zip(fus_genes[:n_genes_per_type], fus_genes[n_genes_per_type:])\n",
    "fus_txs = [] # which fusions were used in the fusion; for reference\n",
    "\n",
    "# make fusion genes\n",
    "for gene1, gene2 in fusions:\n",
    "    print('Generating %s:%s fusion...' % (gene1, gene2))\n",
    "    \n",
    "    # select first transcript from each gene\n",
    "    tx1 = [tx for tx, gn in valid_txs if gn == gene1][0]\n",
    "    tx2 = [tx for tx, gn in valid_txs if gn == gene2][0]\n",
    "    fus_txs.append((tx1, tx2))\n",
    "        \n",
    "    # get sequences\n",
    "    exons1 = all_exons.filter(lambda x: x['transcript_id'] == tx1).saveas()\n",
    "    exons2 = all_exons.filter(lambda x: x['transcript_id'] == tx2).saveas()\n",
    "\n",
    "    tx1_seq, s1 = get_seq(exons1, genome_fasta)\n",
    "    tx2_seq, s2 = get_seq(exons1, genome_fasta)\n",
    "\n",
    "    # write wild-type transcripts\n",
    "    write_sequence(tx1_seq, s1, normal_ref, tx1)\n",
    "    write_sequence(tx2_seq, s2, normal_ref, tx2)\n",
    "        \n",
    "    # pick N 5' exons for transcript 1\n",
    "    ex1_list = [ex for ex in tx1_seq.keys()]\n",
    "    ex1_list = ex1_list[:n_exons] if s1 == '+' else ex1_list[-n_exons:]\n",
    "\n",
    "    # pick N 3' exons for transcript 2\n",
    "    ex2_list = [ex for ex in tx2_seq.keys()]\n",
    "    ex2_list = ex2_list[-n_exons:] if s2 == '+' else ex2_list[:n_exons]\n",
    "\n",
    "    # select sequences and reverse order if antisense\n",
    "    seq1 = [tx1_seq[ex] for ex in ex1_list]\n",
    "    seq1 = seq1 if s1 == '+' else [s for s in reversed(seq1)]   \n",
    "\n",
    "    seq2 = [tx2_seq[ex] for ex in ex2_list]\n",
    "    seq2 = seq2 if s2 == '+' else [s for s in reversed(seq2)] \n",
    "\n",
    "    seq = ''.join(seq1 + seq2)\n",
    "\n",
    "    # write output\n",
    "    with open(fasta_out, 'a') as fout:\n",
    "        fout.write('>%s:%s\\n' % (gene1, gene2))\n",
    "        fout.write(seq + '\\n')"
   ]
  },
  {
   "cell_type": "markdown",
   "metadata": {},
   "source": [
    "## Generate unpartnered fusions"
   ]
  },
  {
   "cell_type": "code",
   "execution_count": 22,
   "metadata": {},
   "outputs": [
    {
     "name": "stdout",
     "output_type": "stream",
     "text": [
      "Generating LOC105369907 unpartnered fusion...\n",
      "Generating PCED1B unpartnered fusion...\n",
      "Generating AGAP2 unpartnered fusion...\n",
      "Generating LOC101928731 unpartnered fusion...\n",
      "Generating PMEL unpartnered fusion...\n",
      "Generating VDR unpartnered fusion...\n",
      "Generating CHST11 unpartnered fusion...\n",
      "Generating CERS5 unpartnered fusion...\n",
      "Generating LOC105369623 unpartnered fusion...\n",
      "Generating LOC105369677 unpartnered fusion...\n",
      "CPU times: user 1min 48s, sys: 1.86 s, total: 1min 50s\n",
      "Wall time: 1min 52s\n"
     ]
    }
   ],
   "source": [
    "%%time\n",
    "np.random.seed(seed)\n",
    "\n",
    "var_genes = fus_genes.copy()\n",
    "available_genes = list(set(all_genes).symmetric_difference(var_genes))\n",
    "ufus_genes = np.random.choice(available_genes, n_genes_per_type, replace=False)\n",
    "var_genes = np.concatenate([var_genes, ufus_genes])\n",
    "\n",
    "for idx, gene in enumerate(ufus_genes):\n",
    "    print('Generating %s unpartnered fusion...' % gene)\n",
    "    \n",
    "    # select first transcript from each gene\n",
    "    tx = [tx for tx, gn in valid_txs if gn == gene][0]\n",
    "    fus_txs.append((tx1,))\n",
    "        \n",
    "    # get sequence\n",
    "    exons = all_exons.filter(lambda x: x['transcript_id'] == tx).saveas()\n",
    "    tx_seq, s = get_seq(exons, genome_fasta)\n",
    "\n",
    "    # write wild-type transcript\n",
    "    write_sequence(tx_seq, s, normal_ref, tx)\n",
    "        \n",
    "    # pick N 5' exons for transcript\n",
    "    ex_list = [ex for ex in tx_seq.keys()]\n",
    "    ex_list = ex_list[:n_exons] if s == '+' else ex_list[-n_exons:]\n",
    "    \n",
    "    # select sequences and reverse order if antisense\n",
    "    seq1 = [tx_seq[ex] for ex in ex_list]\n",
    "    seq1 = seq1 if s1 == '+' else [s for s in reversed(seq1)]\n",
    "    \n",
    "    block_seq = get_random_block(chroms, block_range, gr, genome_fasta)\n",
    "    seq2 = [s for s in block_seq.values()]\n",
    "    \n",
    "    seq = ''.join(seq1 + seq2)\n",
    "    bloc = ''.join([k for k in block_seq.keys()])\n",
    "    \n",
    "    # write output\n",
    "    with open(fasta_out, 'a') as fout:\n",
    "        fout.write('>%s:%s\\n' % (gene, bloc))\n",
    "        fout.write(seq + '\\n')"
   ]
  },
  {
   "cell_type": "code",
   "execution_count": 26,
   "metadata": {},
   "outputs": [
    {
     "name": "stdout",
     "output_type": "stream",
     "text": [
      "CPU times: user 4min 50s, sys: 4.64 s, total: 4min 54s\n",
      "Wall time: 5min 2s\n"
     ]
    }
   ],
   "source": [
    "%%time\n",
    "# write background genes\n",
    "np.random.seed(seed)\n",
    "available_genes = list(set(all_genes).symmetric_difference(var_genes))\n",
    "bg_set = np.random.choice(available_genes, n_background_genes)\n",
    "for gene in bg_set:\n",
    "    tx = [tx for tx, gn in valid_txs if gn == gene][0]\n",
    "    exons = all_exons.filter(lambda x: x['transcript_id'] == tx).saveas()\n",
    "    tx_seq, strand = get_seq(exons, genome_fasta)\n",
    "    write_sequence(tx_seq, strand, normal_ref, tx)\n",
    "    write_sequence(tx_seq, strand, fasta_out, tx)"
   ]
  },
  {
   "cell_type": "code",
   "execution_count": 29,
   "metadata": {},
   "outputs": [
    {
     "name": "stdout",
     "output_type": "stream",
     "text": [
      "CPU times: user 3.51 ms, sys: 15.1 ms, total: 18.6 ms\n",
      "Wall time: 12.4 s\n"
     ]
    }
   ],
   "source": [
    "%%time\n",
    "# generate reads with art illumina\n",
    "np.random.seed(seed)\n",
    "seeds = np.random.randint(0, 99999, 2)\n",
    "\n",
    "subprocess.call(['mkdir', '-p', outdir])\n",
    "\n",
    "# generate case sample\n",
    "subprocess.call([art_illumina, '-ss', 'HS25', '-i', fasta_out, \n",
    "                 '-p', '-l', '100', '-f', str(fold), '-m', str(frag_size),\n",
    "                 '-s', str(frag_sd), '-rs', str(seeds[0]), '-o', '%s/case_R' % outdir])\n",
    "\n",
    "# generate control\n",
    "subprocess.call([art_illumina, '-ss', 'HS25', '-i', normal_ref, \n",
    "             '-p', '-l', '100', '-f', str(fold), '-m', str(frag_size),\n",
    "             '-s', str(frag_sd), '-rs', str(seeds[1]), '-o', '%s/control_R' % outdir])"
   ]
  },
  {
   "cell_type": "code",
   "execution_count": null,
   "metadata": {},
   "outputs": [],
   "source": []
  }
 ],
 "metadata": {
  "kernelspec": {
   "display_name": "Python 3",
   "language": "python",
   "name": "python3"
  }
 },
 "nbformat": 4,
 "nbformat_minor": 2
}
