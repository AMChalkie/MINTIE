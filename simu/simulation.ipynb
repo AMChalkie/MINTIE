{
 "cells": [
  {
   "cell_type": "code",
   "execution_count": 1,
   "metadata": {},
   "outputs": [],
   "source": [
    "import os\n",
    "import numpy as np\n",
    "import pandas as pd\n",
    "import pybedtools\n",
    "import simu\n",
    "import subprocess\n",
    "from pybedtools import BedTool"
   ]
  },
  {
   "cell_type": "code",
   "execution_count": 2,
   "metadata": {},
   "outputs": [],
   "source": [
    "# high-level parameters\n",
    "seed_init = 123\n",
    "n_vars = 10\n",
    "n_background_genes = 100\n",
    "min_exons = 3\n",
    "\n",
    "# simulation parameters\n",
    "n_exons = 2\n",
    "block_range = (30, 200)\n",
    "ins_range = (7, 50)\n",
    "\n",
    "# read generation parameters\n",
    "fold = 50\n",
    "frag_size = 300\n",
    "frag_sd = 20\n",
    "read_len = 150"
   ]
  },
  {
   "cell_type": "code",
   "execution_count": 3,
   "metadata": {},
   "outputs": [],
   "source": [
    "# references\n",
    "art_illumina = '/Users/marek.cmero/apps/art_bin_MountRainier/ART_ILLUMINA'\n",
    "genome_fasta = '/Users/marek.cmero/reference/fastas/Homo_sapiens.GRCh38.dna.primary_assembly.fa'\n",
    "gtf_ref = '/Users/marek.cmero/reference/gtf/chess_mini_chr12_ref.gtf'\n",
    "out_prefix = '/Users/marek.cmero/Desktop/output/fusions'\n",
    "control_fasta = '%s-control.fasta' % out_prefix\n",
    "case_fasta = '%s-case.fasta' % out_prefix\n",
    "\n",
    "# cleanup (from older runs)\n",
    "if os.path.exists(control_fasta):\n",
    "    os.remove(control_fasta)\n",
    "if os.path.exists(case_fasta):\n",
    "    os.remove(case_fasta)"
   ]
  },
  {
   "cell_type": "code",
   "execution_count": 4,
   "metadata": {},
   "outputs": [
    {
     "name": "stdout",
     "output_type": "stream",
     "text": [
      "CPU times: user 11.3 s, sys: 173 ms, total: 11.5 s\n",
      "Wall time: 11.5 s\n"
     ]
    }
   ],
   "source": [
    "%%time\n",
    "\n",
    "# build GTF reference\n",
    "gr = BedTool(gtf_ref)\n",
    "\n",
    "# ensure each transcript in reference has at least N exons\n",
    "all_exons = gr.filter(lambda x: x[2] == 'exon').saveas()\n",
    "all_txs = [(tx['transcript_id'], simu.get_gene_name(tx)) for tx in all_exons]\n",
    "valid_txs = pd.DataFrame(pd.Series(all_txs).value_counts(), columns=['exon_count'])\n",
    "valid_txs = valid_txs[valid_txs.exon_count >= min_exons]\n",
    "valid_txs = valid_txs.index.values\n",
    "\n",
    "all_genes = np.unique([gene for tx, gene in valid_txs if gene != ''])\n",
    "var_genes = np.empty(0)\n",
    "\n",
    "# make gene start/end reference\n",
    "gene_trees = simu.get_gene_features(gr)\n",
    "\n",
    "# params dict\n",
    "params = {'n_exons': n_exons,\n",
    "         'block_range': block_range,\n",
    "         'ins_range': ins_range,\n",
    "         'out_prefix': out_prefix}\n",
    "\n",
    "# make outdir\n",
    "outdir = '/'.join(out_prefix.split('/')[:-1])\n",
    "subprocess.call(['mkdir', '-p', outdir])"
   ]
  },
  {
   "cell_type": "markdown",
   "metadata": {},
   "source": [
    "## Generate canonical fusions\n",
    "\n",
    "Select `n_vars` random genes with `n_vars` random partners and fuse first `n_exons` exons to `n_exons` terminal exons."
   ]
  },
  {
   "cell_type": "code",
   "execution_count": 5,
   "metadata": {},
   "outputs": [
    {
     "name": "stdout",
     "output_type": "stream",
     "text": [
      "Generating NCKAP1L:ALKBH2 fusion...\n",
      "Generating LOC105369676:FAM216A fusion...\n",
      "Generating DIABLO:LOC105370063 fusion...\n",
      "Generating NOP2:SLC6A13 fusion...\n",
      "Generating MRPS35:LOC105369758 fusion...\n",
      "Generating WNT10B:ANKRD33 fusion...\n",
      "Generating ESPL1:DHH fusion...\n",
      "Generating RNFT2:LINC01559 fusion...\n",
      "Generating MYF5:YARS2 fusion...\n",
      "Generating ARL6IP4:NRIP2 fusion...\n",
      "CPU times: user 47.5 s, sys: 489 ms, total: 48 s\n",
      "Wall time: 49.6 s\n"
     ]
    }
   ],
   "source": [
    "%%time\n",
    "# pick fusion genes\n",
    "np.random.seed(seed_init)\n",
    "fus_genes = np.random.choice(all_genes, n_vars * 2, replace=False)\n",
    "fusions = zip(fus_genes[:n_vars], fus_genes[n_vars:])\n",
    "fus_txs = [] # which fusions were used in the fusion; for reference\n",
    "\n",
    "# make fusion genes\n",
    "for gene1, gene2 in fusions:\n",
    "    print('Generating %s:%s fusion...' % (gene1, gene2))\n",
    "\n",
    "    # select first transcript from each gene\n",
    "    tx1 = [tx for tx, gn in valid_txs if gn == gene1][0]\n",
    "    tx2 = [tx for tx, gn in valid_txs if gn == gene2][0]\n",
    "\n",
    "    fus_parts = simu.write_fusion(tx1, tx2, all_exons, genome_fasta, params, gene_trees)\n",
    "    fus_parts.extend(['(%s:%s)' % (gene1, gene2), 'canonical_fusion'])\n",
    "    fus_txs.append(fus_parts)"
   ]
  },
  {
   "cell_type": "markdown",
   "metadata": {},
   "source": [
    "## Generate unpartnered fusions"
   ]
  },
  {
   "cell_type": "code",
   "execution_count": 6,
   "metadata": {
    "scrolled": true
   },
   "outputs": [
    {
     "name": "stdout",
     "output_type": "stream",
     "text": [
      "Generating ANKS1B unpartnered fusion...\n",
      "Generating LOC105369701 unpartnered fusion...\n",
      "Generating CD69 unpartnered fusion...\n",
      "Generating FAM101A unpartnered fusion...\n",
      "Generating GABARAPL1 unpartnered fusion...\n",
      "Generating MYBPC1 unpartnered fusion...\n",
      "Generating FAM222A-AS1 unpartnered fusion...\n",
      "Generating CPM unpartnered fusion...\n",
      "Generating TMEM116 unpartnered fusion...\n",
      "Generating LOC105369740 unpartnered fusion...\n",
      "CPU times: user 39.8 s, sys: 536 ms, total: 40.4 s\n",
      "Wall time: 41.8 s\n"
     ]
    }
   ],
   "source": [
    "%%time\n",
    "var_genes = fus_genes.copy()\n",
    "available_genes = list(set(all_genes).symmetric_difference(var_genes))\n",
    "ufus_genes = np.random.choice(available_genes, n_vars, replace=False)\n",
    "var_genes = np.concatenate([var_genes, ufus_genes])\n",
    "\n",
    "for idx, gene in enumerate(ufus_genes):\n",
    "    print('Generating %s unpartnered fusion...' % gene)\n",
    "                                          \n",
    "    # select first transcript from each gene\n",
    "    tx = [tx for tx, gn in valid_txs if gn == gene][0]\n",
    "        \n",
    "    fus_parts = simu.write_fusion(tx, None, all_exons, genome_fasta, params, gene_trees)\n",
    "    fus_parts.extend(['(%s:)' % (gene), 'unpartnered_fusion'])\n",
    "    fus_txs.append(fus_parts) "
   ]
  },
  {
   "cell_type": "markdown",
   "metadata": {},
   "source": [
    "## Fusions with extended exon at boundary"
   ]
  },
  {
   "cell_type": "code",
   "execution_count": 7,
   "metadata": {},
   "outputs": [
    {
     "name": "stdout",
     "output_type": "stream",
     "text": [
      "Generating ACSS3:LOC102724960 fusion with extended exon...\n",
      "Generating RP11-446N19.1:LOC100506869 fusion with extended exon...\n",
      "Generating MGAT4C:LOC574538 fusion with extended exon...\n",
      "Generating LRP1:KRR1 fusion with extended exon...\n",
      "Generating LOC107984447:C12orf77 fusion with extended exon...\n",
      "Generating IGF1:LOC105370066 fusion with extended exon...\n",
      "Generating TMEM5:RAB3IP fusion with extended exon...\n",
      "Generating LOC105369639:KRT77 fusion with extended exon...\n",
      "Generating RP11-314D7.1:SCARB1 fusion with extended exon...\n",
      "Generating UNG:KIAA1033 fusion with extended exon...\n",
      "CPU times: user 55.4 s, sys: 697 ms, total: 56.1 s\n",
      "Wall time: 1min\n"
     ]
    }
   ],
   "source": [
    "%%time\n",
    "# pick fusion genes\n",
    "available_genes = list(set(all_genes).symmetric_difference(var_genes))\n",
    "efus_genes = np.random.choice(available_genes, n_vars*2, replace=False)\n",
    "var_genes = np.concatenate([var_genes, efus_genes])\n",
    "\n",
    "# make fusion genes\n",
    "fusions = zip(efus_genes[:n_vars], efus_genes[n_vars:])\n",
    "for gene1, gene2 in fusions:\n",
    "    print('Generating %s:%s fusion with extended exon...' % (gene1, gene2))\n",
    "\n",
    "    # select first transcript from each gene\n",
    "    tx1 = [tx for tx, gn in valid_txs if gn == gene1][0]\n",
    "    tx2 = [tx for tx, gn in valid_txs if gn == gene2][0]\n",
    "\n",
    "    fus_parts = simu.write_fusion(tx1, tx2, all_exons, genome_fasta, params, gene_trees, add='EE')\n",
    "    fus_parts.extend(['(%s:%s)' % (gene1, gene2), 'EE_fusion'])\n",
    "    fus_txs.append(fus_parts)"
   ]
  },
  {
   "cell_type": "markdown",
   "metadata": {},
   "source": [
    "## Fusions with novel exons at boundary"
   ]
  },
  {
   "cell_type": "code",
   "execution_count": 8,
   "metadata": {
    "scrolled": true
   },
   "outputs": [
    {
     "name": "stdout",
     "output_type": "stream",
     "text": [
      "Generating BHLHE41:CDK4 fusion with novel exon...\n",
      "Generating AEBP2:LOC338797 fusion with novel exon...\n",
      "Generating CAPRIN2:KLRK1 fusion with novel exon...\n",
      "Generating LOC107984446:TSPAN19 fusion with novel exon...\n",
      "Generating TFCP2:E2F7 fusion with novel exon...\n",
      "Generating LOC105369946:UHRF1BP1L fusion with novel exon...\n",
      "Generating POLR3B:NRAV fusion with novel exon...\n",
      "Generating HNF1A:ULK1 fusion with novel exon...\n",
      "Generating ATP6V0A2:LOC107984484 fusion with novel exon...\n",
      "Generating ZCCHC8:A2M fusion with novel exon...\n",
      "CPU times: user 55.5 s, sys: 709 ms, total: 56.3 s\n",
      "Wall time: 1min\n"
     ]
    }
   ],
   "source": [
    "%%time\n",
    "# pick fusion genes\n",
    "available_genes = list(set(all_genes).symmetric_difference(var_genes))\n",
    "nfus_genes = np.random.choice(available_genes, n_vars*2, replace=False)\n",
    "var_genes = np.concatenate([var_genes, nfus_genes])\n",
    "\n",
    "# make fusion genes\n",
    "fusions = zip(nfus_genes[:n_vars], nfus_genes[n_vars:])\n",
    "for gene1, gene2 in fusions:\n",
    "    print('Generating %s:%s fusion with novel exon...' % (gene1, gene2))\n",
    "\n",
    "    # select first transcript from each gene\n",
    "    tx1 = [tx for tx, gn in valid_txs if gn == gene1][0]\n",
    "    tx2 = [tx for tx, gn in valid_txs if gn == gene2][0]\n",
    "\n",
    "    fus_parts = simu.write_fusion(tx1, tx2, all_exons, genome_fasta, params, gene_trees, add='NE')\n",
    "    fus_parts.extend(['(%s:%s)' % (gene1, gene2), 'NE_fusion'])\n",
    "    fus_txs.append(fus_parts)"
   ]
  },
  {
   "cell_type": "markdown",
   "metadata": {},
   "source": [
    "## Fusions with insertions at boundary"
   ]
  },
  {
   "cell_type": "code",
   "execution_count": 9,
   "metadata": {},
   "outputs": [
    {
     "name": "stdout",
     "output_type": "stream",
     "text": [
      "Generating IAPP:CISTR fusion with a boundary insertion...\n",
      "Generating RP3-461F17.3:LOC105378258 fusion with a boundary insertion...\n",
      "Generating LOC105369626:LOC105369980 fusion with a boundary insertion...\n",
      "Generating TMPO:ALX1 fusion with a boundary insertion...\n",
      "Generating ERBB3:GNPTAB fusion with a boundary insertion...\n",
      "Generating GNS:BTG1 fusion with a boundary insertion...\n",
      "Generating BLOC1S1:LOC107984487 fusion with a boundary insertion...\n",
      "Generating KRT78:FAIM2 fusion with a boundary insertion...\n",
      "Generating RP11-983C2.2:SLC38A1 fusion with a boundary insertion...\n",
      "Generating LOC105369841:ISCU fusion with a boundary insertion...\n",
      "CPU times: user 47.9 s, sys: 517 ms, total: 48.4 s\n",
      "Wall time: 50 s\n"
     ]
    }
   ],
   "source": [
    "%%time\n",
    "# pick fusion genes\n",
    "available_genes = list(set(all_genes).symmetric_difference(var_genes))\n",
    "ifus_genes = np.random.choice(available_genes, n_vars*2, replace=False)\n",
    "var_genes = np.concatenate([var_genes, ifus_genes])\n",
    "\n",
    "# make fusion genes\n",
    "fusions = zip(ifus_genes[:n_vars], ifus_genes[n_vars:])\n",
    "for gene1, gene2 in fusions:\n",
    "    print('Generating %s:%s fusion with a boundary insertion...' % (gene1, gene2))\n",
    "\n",
    "    # select first transcript from each gene\n",
    "    tx1 = [tx for tx, gn in valid_txs if gn == gene1][0]\n",
    "    tx2 = [tx for tx, gn in valid_txs if gn == gene2][0]\n",
    "\n",
    "    fus_parts = simu.write_fusion(tx1, tx2, all_exons, genome_fasta, params, gene_trees, add='INS')\n",
    "    fus_parts.extend(['(%s:%s)' % (gene1, gene2), 'INS_fusion'])\n",
    "    fus_txs.append(fus_parts)"
   ]
  },
  {
   "cell_type": "markdown",
   "metadata": {},
   "source": [
    "## Write background genes"
   ]
  },
  {
   "cell_type": "code",
   "execution_count": 10,
   "metadata": {},
   "outputs": [
    {
     "name": "stdout",
     "output_type": "stream",
     "text": [
      "CPU times: user 3min 55s, sys: 2.29 s, total: 3min 57s\n",
      "Wall time: 4min 4s\n"
     ]
    }
   ],
   "source": [
    "%%time\n",
    "# write background genes\n",
    "available_genes = list(set(all_genes).symmetric_difference(var_genes))\n",
    "bg_set = np.random.choice(available_genes, n_background_genes)\n",
    "for gene in bg_set:\n",
    "    tx = [tx for tx, gn in valid_txs if gn == gene][0]\n",
    "    exons = all_exons.filter(lambda x: x['transcript_id'] == tx).saveas()\n",
    "    tx_seq, strand = simu.get_seq(exons, genome_fasta)\n",
    "    simu.write_sequence(tx_seq, strand, control_fasta, tx)\n",
    "    simu.write_sequence(tx_seq, strand, case_fasta, tx)"
   ]
  },
  {
   "cell_type": "markdown",
   "metadata": {},
   "source": [
    "## Generate reads with Art"
   ]
  },
  {
   "cell_type": "code",
   "execution_count": 11,
   "metadata": {},
   "outputs": [
    {
     "name": "stdout",
     "output_type": "stream",
     "text": [
      "CPU times: user 2.65 ms, sys: 10.9 ms, total: 13.5 ms\n",
      "Wall time: 9.78 s\n"
     ]
    }
   ],
   "source": [
    "%%time\n",
    "# generate reads with art illumina\n",
    "seeds = np.random.randint(0, 99999, 2)\n",
    "\n",
    "# generate case sample\n",
    "subprocess.call([art_illumina, '-ss', 'HS25', '-i', case_fasta, \n",
    "                 '-p', '-l', str(read_len), '-f', str(fold), '-m', str(frag_size),\n",
    "                 '-s', str(frag_sd), '-rs', str(seeds[0]), '-o', '%s-case_R' % out_prefix])\n",
    "\n",
    "# generate control\n",
    "subprocess.call([art_illumina, '-ss', 'HS25', '-i', control_fasta, \n",
    "             '-p', '-l', str(read_len), '-f', str(fold), '-m', str(frag_size),\n",
    "             '-s', str(frag_sd), '-rs', str(seeds[1]), '-o', '%s-control_R' % out_prefix])"
   ]
  },
  {
   "cell_type": "code",
   "execution_count": 12,
   "metadata": {},
   "outputs": [
    {
     "name": "stdout",
     "output_type": "stream",
     "text": [
      "CPU times: user 3.92 ms, sys: 16.3 ms, total: 20.3 ms\n",
      "Wall time: 12.3 s\n"
     ]
    }
   ],
   "source": [
    "%%time\n",
    "for sample in ['case', 'control']:\n",
    "    for r in range(2):\n",
    "        outf = open('%s-%s_R%d.fastq.gz' % (out_prefix, sample, (r+1)), 'w')\n",
    "        subprocess.call(['gzip', '-c', '%s-%s_R%d.fq' % (out_prefix, sample, (r+1))], stdout=outf)\n",
    "        outf.close()"
   ]
  },
  {
   "cell_type": "markdown",
   "metadata": {},
   "source": [
    "## Write details for fusions simulated"
   ]
  },
  {
   "cell_type": "code",
   "execution_count": 13,
   "metadata": {},
   "outputs": [],
   "source": [
    "fus_info = pd.DataFrame(fus_txs, columns=['tx1', 'insert', 'tx2', 'fusion', 'type'])\n",
    "fus_info['gene1'] = fus_info.fusion.apply(lambda x: x.split(':')[0][1:])\n",
    "fus_info['gene2'] = fus_info.fusion.apply(lambda x: x.split(':')[1][:-1])\n",
    "del fus_info['fusion']\n",
    "fus_info.to_csv('%s_simulated_fusions.tsv' % out_prefix, index=False, sep='\\t')"
   ]
  }
 ],
 "metadata": {
  "kernelspec": {
   "display_name": "Python 3",
   "language": "python",
   "name": "python3"
  },
  "language_info": {
   "codemirror_mode": {
    "name": "ipython",
    "version": 3
   },
   "file_extension": ".py",
   "mimetype": "text/x-python",
   "name": "python",
   "nbconvert_exporter": "python",
   "pygments_lexer": "ipython3",
   "version": "3.6.6"
  }
 },
 "nbformat": 4,
 "nbformat_minor": 2
}
