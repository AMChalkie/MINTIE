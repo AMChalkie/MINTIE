{
 "cells": [
  {
   "cell_type": "code",
   "execution_count": 91,
   "metadata": {},
   "outputs": [],
   "source": [
    "import tempfile\n",
    "import numpy as np\n",
    "import pandas as pd\n",
    "import collections\n",
    "import re\n",
    "import os\n",
    "import subprocess\n",
    "import pybedtools\n",
    "from intervaltree import Interval, IntervalTree\n",
    "from pybedtools import BedTool\n",
    "from Bio import SeqIO"
   ]
  },
  {
   "cell_type": "code",
   "execution_count": 92,
   "metadata": {},
   "outputs": [],
   "source": [
    "# simulation parameters\n",
    "seed = 123\n",
    "N_VARS = 10\n",
    "N_BACKGROUND_GENES = 100\n",
    "N_EXONS = 2 # fuse first N exons to last N exons\n",
    "MIN_EXONS = 3\n",
    "BLOCK_RANGE = (30, 200)\n",
    "FOLD = 50\n",
    "FRAG_SIZE = 300\n",
    "FRAG_SD = 20\n",
    "READ_LEN = 150"
   ]
  },
  {
   "cell_type": "code",
   "execution_count": 93,
   "metadata": {},
   "outputs": [],
   "source": [
    "# references\n",
    "ART_ILLUMINA = '/Users/marek.cmero/apps/art_bin_MountRainier/ART_ILLUMINA'\n",
    "GENOME_FASTA = '/Users/marek.cmero/reference/fastas/Homo_sapiens.GRCh38.dna.primary_assembly.fa'\n",
    "GTF_REF = '/Users/marek.cmero/reference/gtf/chess_mini_chr12_ref.gtf'\n",
    "FASTA_OUT = 'cryptic_variants_simu.fasta'\n",
    "CONTROL_FASTA_OUT = 'cryptic_variants_control.fasta'\n",
    "OUTDIR = '/Users/marek.cmero/Desktop/output'\n",
    "\n",
    "# cleanup (from older runs)\n",
    "if os.path.exists(FASTA_OUT):\n",
    "    os.remove(FASTA_OUT)\n",
    "if os.path.exists(CONTROL_FASTA_OUT):\n",
    "    os.remove(CONTROL_FASTA_OUT)"
   ]
  },
  {
   "cell_type": "code",
   "execution_count": 94,
   "metadata": {},
   "outputs": [],
   "source": [
    "# functions\n",
    "def get_gene_name(row):\n",
    "    '''\n",
    "    Prevents KeyError if gene name missing\n",
    "    '''\n",
    "    try:\n",
    "        return row.attrs['gene_name']\n",
    "    except KeyError:\n",
    "        return ''\n",
    "    \n",
    "def get_seq(gr):\n",
    "    '''\n",
    "    Returns a dictionary of exon sequences\n",
    "    and the corresponding strand of the transcript\n",
    "    '''\n",
    "    block_seqs = gr.sequence(fi=GENOME_FASTA, s=True)\n",
    "    block_dict = collections.OrderedDict()\n",
    "    with tempfile.NamedTemporaryFile() as fa_tmp:\n",
    "        fa_tmp.write(bytes(open(block_seqs.seqfn).read(), 'utf-8'))\n",
    "        fa_tmp.flush()\n",
    "\n",
    "        for record in SeqIO.parse(fa_tmp.name, 'fasta'):\n",
    "            block_dict[record.id] = str(record.seq)\n",
    "\n",
    "    strand = re.search('\\(([-+])\\)', next(iter(block_dict.keys())))\n",
    "    assert strand\n",
    "    \n",
    "    return block_dict, strand.group(1)\n",
    "\n",
    "def write_sequence(seq_dict, strand, output_file, name):\n",
    "    '''\n",
    "    Writes sequence dictionary to output file\n",
    "    '''\n",
    "    seq = [seq_dict[ex] for ex in seq_dict.keys()]\n",
    "    seq = seq if strand == '+' else [s for s in reversed(seq)]\n",
    "\n",
    "    with open(output_file, 'a') as fout:\n",
    "        fout.write('>%s\\n' % name)\n",
    "        fout.write(''.join(seq) + '\\n')\n",
    "        \n",
    "def get_chrom_features(chrom, gr):\n",
    "    '''\n",
    "    Get all merged intervals on given chromosome\n",
    "    '''\n",
    "    chrom_features = gr.filter(lambda x: x.chrom == chrom).merge()    \n",
    "    chrom_features = [(g.start, g.end) for g in gr]\n",
    "    \n",
    "    chrom_tree = IntervalTree()\n",
    "    [chrom_tree.addi(s, e) for s, e in chrom_features]\n",
    "\n",
    "    return chrom_tree\n",
    "\n",
    "def get_gene_features(chroms, gr):\n",
    "    '''\n",
    "    Get interval tree for start/ends for \n",
    "    each gene on each chromosome\n",
    "    '''\n",
    "    gn_ref = pd.DataFrame([(g.chrom, g.start, g.end, get_gene_name(g)) for g in gr])\n",
    "    aggregator = {1: lambda x: min(x),\n",
    "                  2: lambda x: max(x)}\n",
    "    gn_ref = gn_ref.groupby([0, 3], as_index=False, sort=False).agg(aggregator)\n",
    "    gn_ref = gn_ref[[0, 1, 2, 3]]\n",
    "    gn_ref.columns = ['chrom', 'start', 'end', 'gene']\n",
    "    gn_ref = gn_ref[gn_ref.gene!='']\n",
    "\n",
    "    ref_trees = {}\n",
    "    for chrom in chroms:\n",
    "        chr_ref = gn_ref[gn_ref.chrom == chrom]\n",
    "        ref_tree = IntervalTree()\n",
    "        for s,e,g in zip(chr_ref['start'].values, chr_ref['end'].values, chr_ref['gene'].values):\n",
    "            ref_tree.addi(s-1, e, g)\n",
    "    ref_trees[chrom] = ref_tree\n",
    "    \n",
    "    return ref_trees\n",
    "\n",
    "def get_ee_seq(ex_list, gr):\n",
    "    '''\n",
    "    Extends given exon by random size and returns\n",
    "    its sequence. If a reference exon exists that\n",
    "    already extends the given exon, then extend\n",
    "    past any other reference exons.\n",
    "    '''\n",
    "    # TODO: make sure exon size doesn't extend to the next exon \n",
    "    block_size = np.random.randint(BLOCK_RANGE[0], BLOCK_RANGE[1])\n",
    "    block = ex_list[1] if s1 == '+' else ex_list[0]\n",
    "    loc = re.compile('[:\\-\\(\\)]').split(block)\n",
    "    start = loc[2] if s1 == '+' else str(int(loc[1]) - block_size)\n",
    "    end = str(int(loc[2]) + block_size) if s1 == '+' else loc[1]\n",
    "\n",
    "    ex = get_chrom_features(loc[0], gr.merge())\n",
    "    olap = ex.overlap(int(start), int(end))\n",
    "    if len(olap) > 0:        \n",
    "        end = str(int(list(olap)[0][1]) + block_size) if s1 == '+' else end\n",
    "        start = str(int(list(olap)[0][0]) - block_size) if s1 == '-' else start\n",
    "    \n",
    "    block_bed = '%s\\t%s\\t%s\\t.\\t1\\t%s' % (loc[0], start, end, s1)\n",
    "    block_bt = BedTool(block_bed, from_string=True)\n",
    "    block_seq, bs = get_seq(block_bt)\n",
    "    ext_seq = ''.join([bs for bs in block_seq.values()])\n",
    "    \n",
    "    return ext_seq\n",
    "\n",
    "def get_random_block(chroms, gene_trees, seed):\n",
    "    '''\n",
    "    Get random block sequence for feature\n",
    "    not overlapping any other genomic features\n",
    "    '''    \n",
    "    block_size = np.random.randint(BLOCK_RANGE[0], BLOCK_RANGE[1])\n",
    "    chrom = np.random.choice(chroms)\n",
    "    chrom_features = gene_trees[chrom]\n",
    "    \n",
    "    chr_range = chr_sizes[('chr%s' % chrom)]\n",
    "    block_start = np.random.randint(chr_range[0], chr_range[1]-block_size)\n",
    "    block_end = block_start + block_size        \n",
    "    \n",
    "    seq = 'N'\n",
    "    while 'N' in seq:\n",
    "        # only select sequence if there's no Ns\n",
    "        while chrom_features.overlaps(block_start, block_end):\n",
    "            seed += 123\n",
    "            np.random.seed(seed)\n",
    "            block_start = np.random.randint(chr_range[0], chr_range[1]-block_size)\n",
    "            block_end = block_start + block_size\n",
    "\n",
    "        strand = np.random.choice(['+','-'])\n",
    "        block_bed = '%s\\t%d\\t%d\\t.\\t1\\t%s' % (chrom, block_start, block_end, strand)\n",
    "        block_bt = BedTool(block_bed, from_string=True)\n",
    "        block_seq, bs = get_seq(block_bt)\n",
    "        seq = ''.join([bs for bs in block_seq.values()])\n",
    "\n",
    "    return block_seq, seed\n",
    "\n",
    "def write_fusion(tx1, tx2, all_exons, name, add=['none', 'EE']):\n",
    "    '''\n",
    "    Get left and right sequences of given transcripts\n",
    "    corresponding to the first N exons and last N exons of\n",
    "    transcripts 1 and 2 respectively.\n",
    "    Automatically writes wild type transcript to CONTROL_FASTA_OUT.\n",
    "    '''\n",
    "    exons1 = all_exons.filter(lambda x: x['transcript_id'] == tx1).saveas()\n",
    "    exons2 = all_exons.filter(lambda x: x['transcript_id'] == tx2).saveas()\n",
    "\n",
    "    tx1_seq, s1 = get_seq(exons1)\n",
    "    tx2_seq, s2 = get_seq(exons2)\n",
    "\n",
    "    # write wild-type transcripts\n",
    "    write_sequence(tx1_seq, s1, CONTROL_FASTA_OUT, tx1)\n",
    "    write_sequence(tx2_seq, s2, CONTROL_FASTA_OUT, tx2)\n",
    "        \n",
    "    # pick N 5' exons for transcript 1\n",
    "    ex1_list = [ex for ex in tx1_seq.keys()]\n",
    "    ex1_list = ex1_list[:N_EXONS] if s1 == '+' else ex1_list[-N_EXONS:]\n",
    "\n",
    "    ext_seq = ''\n",
    "    if add == 'EE':\n",
    "        ext_seq = get_ee_seq(ex1_list, all_exons)\n",
    "    \n",
    "    # pick N 3' exons for transcript 2\n",
    "    ex2_list = [ex for ex in tx2_seq.keys()]\n",
    "    ex2_list = ex2_list[-N_EXONS:] if s2 == '+' else ex2_list[:N_EXONS]\n",
    "\n",
    "    # select sequences and reverse order if antisense\n",
    "    seq1 = [tx1_seq[ex] for ex in ex1_list]\n",
    "    seq1 = seq1 if s1 == '+' else [s for s in reversed(seq1)]   \n",
    "\n",
    "    seq2 = [tx2_seq[ex] for ex in ex2_list]\n",
    "    seq2 = seq2 if s2 == '+' else [s for s in reversed(seq2)]\n",
    "    \n",
    "    seq = ''.join(seq1 + [ext_seq] + seq2)\n",
    "    \n",
    "    # write output\n",
    "    with open(FASTA_OUT, 'a') as fout:\n",
    "        fout.write('>%s\\n' % name)\n",
    "        fout.write(seq + '\\n')"
   ]
  },
  {
   "cell_type": "code",
   "execution_count": 95,
   "metadata": {},
   "outputs": [
    {
     "name": "stdout",
     "output_type": "stream",
     "text": [
      "CPU times: user 11.4 s, sys: 230 ms, total: 11.6 s\n",
      "Wall time: 11.9 s\n"
     ]
    }
   ],
   "source": [
    "%%time\n",
    "# build GTF reference\n",
    "gr = BedTool(GTF_REF) \n",
    "\n",
    "# ensure each transcript in reference has at least N exons\n",
    "all_exons = gr.filter(lambda x: x[2] == 'exon').saveas()\n",
    "all_txs = [(tx['transcript_id'], get_gene_name(tx)) for tx in all_exons]\n",
    "valid_txs = pd.DataFrame(pd.Series(all_txs).value_counts(), columns=['exon_count'])\n",
    "valid_txs = valid_txs[valid_txs.exon_count >= MIN_EXONS]\n",
    "valid_txs = valid_txs.index.values\n",
    "\n",
    "all_genes = np.unique([gene for tx, gene in valid_txs if gene != ''])\n",
    "var_genes = np.empty(0)\n",
    "\n",
    "chr_sizes = pybedtools.chromsizes('hg38')\n",
    "chroms = np.unique([x.chrom for x in all_exons])\n",
    "\n",
    "# make gene start/end reference\n",
    "gene_trees = get_gene_features(chroms, gr)"
   ]
  },
  {
   "cell_type": "markdown",
   "metadata": {},
   "source": [
    "## Generate canonical fusions\n",
    "\n",
    "Select `N_VARS` random genes with `N_VARS` random partners and fuse first `N_EXONS` exons to `N_EXONS` terminal exons."
   ]
  },
  {
   "cell_type": "code",
   "execution_count": 96,
   "metadata": {},
   "outputs": [
    {
     "name": "stdout",
     "output_type": "stream",
     "text": [
      "Generating NCKAP1L:ALKBH2 fusion...\n",
      "Generating LOC105369676:FAM216A fusion...\n",
      "Generating DIABLO:LOC105370063 fusion...\n",
      "Generating NOP2:SLC6A13 fusion...\n",
      "Generating MRPS35:LOC105369758 fusion...\n",
      "Generating WNT10B:ANKRD33 fusion...\n",
      "Generating ESPL1:DHH fusion...\n",
      "Generating RNFT2:LINC01559 fusion...\n",
      "Generating MYF5:YARS2 fusion...\n",
      "Generating ARL6IP4:NRIP2 fusion...\n",
      "CPU times: user 49.4 s, sys: 507 ms, total: 49.9 s\n",
      "Wall time: 51.2 s\n"
     ]
    }
   ],
   "source": [
    "%%time\n",
    "# pick fusion genes\n",
    "np.random.seed(seed)\n",
    "fus_genes = np.random.choice(all_genes, N_VARS * 2, replace=False)\n",
    "fusions = zip(fus_genes[:N_VARS], fus_genes[N_VARS:])\n",
    "fus_txs = [] # which fusions were used in the fusion; for reference\n",
    "\n",
    "# make fusion genes\n",
    "for gene1, gene2 in fusions:\n",
    "    print('Generating %s:%s fusion...' % (gene1, gene2))\n",
    "\n",
    "    # select first transcript from each gene\n",
    "    tx1 = [tx for tx, gn in valid_txs if gn == gene1][0]\n",
    "    tx2 = [tx for tx, gn in valid_txs if gn == gene2][0]\n",
    "    fus_txs.append((tx1, tx2))\n",
    "\n",
    "    name = '%s:%s' % (gene1, gene2)\n",
    "    seq = write_fusion(tx1, tx2, all_exons, name)"
   ]
  },
  {
   "cell_type": "markdown",
   "metadata": {},
   "source": [
    "## Generate unpartnered fusions"
   ]
  },
  {
   "cell_type": "code",
   "execution_count": 97,
   "metadata": {
    "scrolled": true
   },
   "outputs": [
    {
     "name": "stdout",
     "output_type": "stream",
     "text": [
      "Generating PIANP:12:65977522-65977661(+) unpartnered fusion...\n",
      "Generating TUBA1A:12:28596154-28596187(-) unpartnered fusion...\n",
      "Generating LOC101927484:12:118813329-118813521(+) unpartnered fusion...\n",
      "Generating ZFC3H1:12:83194082-83194240(+) unpartnered fusion...\n",
      "Generating HPD:12:88615334-88615413(+) unpartnered fusion...\n",
      "Generating LOC105369877:12:65690383-65690574(-) unpartnered fusion...\n",
      "Generating IL22:12:65135549-65135734(+) unpartnered fusion...\n",
      "Generating EEA1:12:52503345-52503375(+) unpartnered fusion...\n",
      "Generating LOC101927882:12:55220154-55220207(+) unpartnered fusion...\n",
      "Generating PLXNC1:12:43569701-43569897(-) unpartnered fusion...\n",
      "CPU times: user 25.4 s, sys: 360 ms, total: 25.7 s\n",
      "Wall time: 26.9 s\n"
     ]
    }
   ],
   "source": [
    "%%time\n",
    "np.random.seed(seed)\n",
    "\n",
    "var_genes = fus_genes.copy()\n",
    "available_genes = list(set(all_genes).symmetric_difference(var_genes))\n",
    "ufus_genes = np.random.choice(available_genes, N_VARS, replace=False)\n",
    "var_genes = np.concatenate([var_genes, ufus_genes])\n",
    "\n",
    "for idx, gene in enumerate(ufus_genes):\n",
    "    # select first transcript from each gene\n",
    "    tx = [tx for tx, gn in valid_txs if gn == gene][0]\n",
    "        \n",
    "    # get sequence\n",
    "    exons = all_exons.filter(lambda x: x['transcript_id'] == tx).saveas()\n",
    "    tx_seq, s = get_seq(exons)\n",
    "\n",
    "    # write wild-type transcript\n",
    "    write_sequence(tx_seq, s, CONTROL_FASTA_OUT, tx)\n",
    "        \n",
    "    # pick N 5' exons for transcript\n",
    "    ex_list = [ex for ex in tx_seq.keys()]\n",
    "    ex_list = ex_list[:N_EXONS] if s == '+' else ex_list[-N_EXONS:]\n",
    "    \n",
    "    # select sequences and reverse order if antisense\n",
    "    seq1 = [tx_seq[ex] for ex in ex_list]\n",
    "    seq1 = seq1 if s == '+' else [s for s in reversed(seq1)]\n",
    "    \n",
    "    block_seq, seed = get_random_block(chroms, gene_trees, seed)\n",
    "    seq2 = [s for s in block_seq.values()]\n",
    "    \n",
    "    seq = ''.join(seq1 + seq2)\n",
    "    bloc = ''.join([k for k in block_seq.keys()])\n",
    "    fus_txs.append((tx, bloc))\n",
    "    \n",
    "    print('Generating %s:%s unpartnered fusion...' % (gene, bloc)) \n",
    "    # write output\n",
    "    with open(FASTA_OUT, 'a') as fout:\n",
    "        fout.write('>%s:%s\\n' % (gene, bloc))\n",
    "        fout.write(seq + '\\n')\n"
   ]
  },
  {
   "cell_type": "markdown",
   "metadata": {},
   "source": [
    "## Fusions with extended exon at boundary"
   ]
  },
  {
   "cell_type": "code",
   "execution_count": 98,
   "metadata": {},
   "outputs": [
    {
     "name": "stdout",
     "output_type": "stream",
     "text": [
      "Generating LOC105369826:PFDN5 fusion...\n",
      "Generating LOC105369896:SDR9C7 fusion...\n",
      "Generating C12orf76:LOC101927058 fusion...\n",
      "Generating LOC105370008:LOC100506159 fusion...\n",
      "Generating USP5:LOC105370080 fusion...\n",
      "Generating IKZF4:LOC107984468 fusion...\n",
      "Generating LOC105369875:RASSF9 fusion...\n",
      "Generating LOC105370010:ZC3H10 fusion...\n",
      "Generating FGF6:ZNF641 fusion...\n",
      "Generating SCN8A:MED21 fusion...\n",
      "CPU times: user 56.9 s, sys: 718 ms, total: 57.6 s\n",
      "Wall time: 1min 1s\n"
     ]
    }
   ],
   "source": [
    "%%time\n",
    "# pick fusion genes\n",
    "np.random.seed(seed)\n",
    "available_genes = list(set(all_genes).symmetric_difference(var_genes))\n",
    "efus_genes = np.random.choice(available_genes, N_VARS*2, replace=False)\n",
    "var_genes = np.concatenate([var_genes, efus_genes])\n",
    "\n",
    "# make fusion genes\n",
    "fusions = zip(efus_genes[:N_VARS], efus_genes[N_VARS:])\n",
    "for gene1, gene2 in fusions:\n",
    "    print('Generating %s:%s fusion...' % (gene1, gene2))\n",
    "    \n",
    "    # select first transcript from each gene\n",
    "    tx1 = [tx for tx, gn in valid_txs if gn == gene1][0]\n",
    "    tx2 = [tx for tx, gn in valid_txs if gn == gene2][0]\n",
    "    fus_txs.append((tx1, tx2))\n",
    "\n",
    "    name = '%s:%s' % (gene1, gene2)\n",
    "    seq = write_fusion(tx1, tx2, all_exons, name, add='EE')"
   ]
  },
  {
   "cell_type": "code",
   "execution_count": 99,
   "metadata": {},
   "outputs": [
    {
     "data": {
      "text/plain": [
       "[('CHS.11800.1', 'CHS.12716.1'),\n",
       " ('CHS.11139.1', 'CHS.12756.5'),\n",
       " ('CHS.13049.14', 'CHS.13194.5'),\n",
       " ('CHS.10783.2', 'CHS.10619.8'),\n",
       " ('CHS.11278.2', 'CHS.11546.3'),\n",
       " ('CHS.11540.2', 'CHS.11645.2'),\n",
       " ('CHS.11726.4', 'CHS.11551.3'),\n",
       " ('CHS.12898.3', 'CHS.11083.1'),\n",
       " ('CHS.12272.1', 'CHS.11365.5'),\n",
       " ('CHS.13078.3', 'CHS.10681.8'),\n",
       " ('CHS.10796.9', '12:65977522-65977661(+)'),\n",
       " ('CHS.11556.2', '12:28596154-28596187(-)'),\n",
       " ('CHS.11813.3', '12:118813329-118813521(+)'),\n",
       " ('CHS.12168.2', '12:83194082-83194240(+)'),\n",
       " ('CHS.13034.8', '12:88615334-88615413(+)'),\n",
       " ('CHS.12312.1', '12:65690383-65690574(-)'),\n",
       " ('CHS.12105.1', '12:65135549-65135734(+)'),\n",
       " ('CHS.12410.4', '12:52503345-52503375(+)'),\n",
       " ('CHS.10844.3', '12:55220154-55220207(+)'),\n",
       " ('CHS.12439.8', '12:43569701-43569897(-)'),\n",
       " ('CHS.12146.1', 'CHS.11727.10'),\n",
       " ('CHS.12373.1', 'CHS.11912.6'),\n",
       " ('CHS.12743.3', 'CHS.11421.2'),\n",
       " ('CHS.12880.1', 'CHS.10949.2'),\n",
       " ('CHS.10812.8', 'CHS.13263.6'),\n",
       " ('CHS.11860.6', 'CHS.11876.3'),\n",
       " ('CHS.12300.1', 'CHS.12309.1'),\n",
       " ('CHS.12907.2', 'CHS.11869.2'),\n",
       " ('CHS.10720.6', 'CHS.11515.11'),\n",
       " ('CHS.11636.2', 'CHS.11261.5')]"
      ]
     },
     "execution_count": 99,
     "metadata": {},
     "output_type": "execute_result"
    }
   ],
   "source": [
    "# transcript IDs used for cryptic variants\n",
    "fus_txs"
   ]
  },
  {
   "cell_type": "code",
   "execution_count": 100,
   "metadata": {},
   "outputs": [
    {
     "name": "stdout",
     "output_type": "stream",
     "text": [
      "CPU times: user 3min 57s, sys: 2.04 s, total: 3min 59s\n",
      "Wall time: 4min 5s\n"
     ]
    }
   ],
   "source": [
    "%%time\n",
    "# write background genes\n",
    "np.random.seed(seed)\n",
    "available_genes = list(set(all_genes).symmetric_difference(var_genes))\n",
    "bg_set = np.random.choice(available_genes, N_BACKGROUND_GENES)\n",
    "for gene in bg_set:\n",
    "    tx = [tx for tx, gn in valid_txs if gn == gene][0]\n",
    "    exons = all_exons.filter(lambda x: x['transcript_id'] == tx).saveas()\n",
    "    tx_seq, strand = get_seq(exons)\n",
    "    write_sequence(tx_seq, strand, CONTROL_FASTA_OUT, tx)\n",
    "    write_sequence(tx_seq, strand, FASTA_OUT, tx)"
   ]
  },
  {
   "cell_type": "code",
   "execution_count": 101,
   "metadata": {},
   "outputs": [
    {
     "name": "stdout",
     "output_type": "stream",
     "text": [
      "CPU times: user 3.38 ms, sys: 14.8 ms, total: 18.2 ms\n",
      "Wall time: 9.83 s\n"
     ]
    }
   ],
   "source": [
    "%%time\n",
    "# generate reads with art illumina\n",
    "np.random.seed(seed)\n",
    "seeds = np.random.randint(0, 99999, 2)\n",
    "\n",
    "subprocess.call(['mkdir', '-p', OUTDIR])\n",
    "\n",
    "# generate case sample\n",
    "subprocess.call([ART_ILLUMINA, '-ss', 'HS25', '-i', FASTA_OUT, \n",
    "                 '-p', '-l', str(READ_LEN), '-f', str(FOLD), '-m', str(FRAG_SIZE),\n",
    "                 '-s', str(FRAG_SD), '-rs', str(seeds[0]), '-o', '%s/case_R' % OUTDIR])\n",
    "\n",
    "# generate control\n",
    "subprocess.call([ART_ILLUMINA, '-ss', 'HS25', '-i', CONTROL_FASTA_OUT, \n",
    "             '-p', '-l', str(READ_LEN), '-f', str(FOLD), '-m', str(FRAG_SIZE),\n",
    "             '-s', str(FRAG_SD), '-rs', str(seeds[1]), '-o', '%s/control_R' % OUTDIR])"
   ]
  },
  {
   "cell_type": "code",
   "execution_count": 102,
   "metadata": {},
   "outputs": [
    {
     "name": "stdout",
     "output_type": "stream",
     "text": [
      "CPU times: user 3.85 ms, sys: 19.9 ms, total: 23.8 ms\n",
      "Wall time: 11 s\n"
     ]
    }
   ],
   "source": [
    "%%time\n",
    "for sample in ['case', 'control']:\n",
    "    for r in range(2):\n",
    "        outf = open('%s/%s_R%d.fastq.gz' % (OUTDIR, sample, (r+1)), 'w')\n",
    "        subprocess.call(['gzip', '-c', '%s/%s_R%d.fq' % (OUTDIR, sample, (r+1))], stdout=outf)\n",
    "        outf.close()"
   ]
  }
 ],
 "metadata": {
  "kernelspec": {
   "display_name": "Python 3",
   "language": "python",
   "name": "python3"
  }
 },
 "nbformat": 4,
 "nbformat_minor": 2
}
