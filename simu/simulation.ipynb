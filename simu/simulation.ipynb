{
 "cells": [
  {
   "cell_type": "code",
   "execution_count": 15,
   "metadata": {},
   "outputs": [],
   "source": [
    "import tempfile\n",
    "import numpy as np\n",
    "import pandas as pd\n",
    "import collections\n",
    "import re\n",
    "import os\n",
    "import subprocess\n",
    "import pybedtools\n",
    "from IPython.core.debugger import set_trace\n",
    "from intervaltree import Interval, IntervalTree\n",
    "from pybedtools import BedTool\n",
    "from Bio import SeqIO"
   ]
  },
  {
   "cell_type": "code",
   "execution_count": 16,
   "metadata": {},
   "outputs": [],
   "source": [
    "# simulation parameters\n",
    "SEED_INIT = 123\n",
    "N_VARS = 10\n",
    "N_BACKGROUND_GENES = 100\n",
    "N_EXONS = 2 # fuse first N exons to last N exons\n",
    "MIN_EXONS = 3\n",
    "BLOCK_RANGE = (30, 200)\n",
    "INS_RANGE = (3, 50)\n",
    "FOLD = 50\n",
    "FRAG_SIZE = 300\n",
    "FRAG_SD = 20\n",
    "READ_LEN = 150"
   ]
  },
  {
   "cell_type": "code",
   "execution_count": 17,
   "metadata": {},
   "outputs": [],
   "source": [
    "# references\n",
    "ART_ILLUMINA = '/Users/marek.cmero/apps/art_bin_MountRainier/ART_ILLUMINA'\n",
    "GENOME_FASTA = '/Users/marek.cmero/reference/fastas/Homo_sapiens.GRCh38.dna.primary_assembly.fa'\n",
    "GTF_REF = '/Users/marek.cmero/reference/gtf/chess_mini_chr12_ref.gtf'\n",
    "FASTA_OUT = 'cryptic_variants_simu.fasta'\n",
    "CONTROL_FASTA_OUT = 'cryptic_variants_control.fasta'\n",
    "OUTDIR = '/Users/marek.cmero/Desktop/output'\n",
    "\n",
    "# constants\n",
    "BASES = list('GCAT')\n",
    "\n",
    "# cleanup (from older runs)\n",
    "if os.path.exists(FASTA_OUT):\n",
    "    os.remove(FASTA_OUT)\n",
    "if os.path.exists(CONTROL_FASTA_OUT):\n",
    "    os.remove(CONTROL_FASTA_OUT)"
   ]
  },
  {
   "cell_type": "code",
   "execution_count": 18,
   "metadata": {},
   "outputs": [],
   "source": [
    "# functions\n",
    "def get_gene_name(row):\n",
    "    '''\n",
    "    Prevents KeyError if gene name missing\n",
    "    '''\n",
    "    try:\n",
    "        return row.attrs['gene_name']\n",
    "    except KeyError:\n",
    "        return ''\n",
    "    \n",
    "def get_seq(gr):\n",
    "    '''\n",
    "    Returns a dictionary of exon sequences\n",
    "    and the corresponding strand of the transcript\n",
    "    '''\n",
    "    block_seqs = gr.sequence(fi=GENOME_FASTA, s=True)\n",
    "    block_dict = collections.OrderedDict()\n",
    "    with tempfile.NamedTemporaryFile() as fa_tmp:\n",
    "        fa_tmp.write(bytes(open(block_seqs.seqfn).read(), 'utf-8'))\n",
    "        fa_tmp.flush()\n",
    "\n",
    "        for record in SeqIO.parse(fa_tmp.name, 'fasta'):\n",
    "            block_dict[record.id] = str(record.seq)\n",
    "\n",
    "    strand = re.search('\\(([-+])\\)', next(iter(block_dict.keys())))\n",
    "    assert strand\n",
    "    \n",
    "    return block_dict, strand.group(1)\n",
    "\n",
    "def write_sequence(seq_dict, strand, output_file, name):\n",
    "    '''\n",
    "    Writes sequence dictionary to output file\n",
    "    '''\n",
    "    seq = [seq_dict[ex] for ex in seq_dict.keys()]\n",
    "    seq = seq if strand == '+' else [s for s in reversed(seq)]\n",
    "\n",
    "    with open(output_file, 'a') as fout:\n",
    "        fout.write('>%s\\n' % name)\n",
    "        fout.write(''.join(seq) + '\\n')\n",
    "        \n",
    "def get_chrom_features(chrom, gr):\n",
    "    '''\n",
    "    Get all merged intervals on given chromosome\n",
    "    '''\n",
    "    chrom_features = gr.filter(lambda x: x.chrom == chrom).merge()    \n",
    "    chrom_features = [(g.start, g.end) for g in gr]\n",
    "    \n",
    "    chrom_tree = IntervalTree()\n",
    "    [chrom_tree.addi(s, e) for s, e in chrom_features]\n",
    "\n",
    "    return chrom_tree\n",
    "\n",
    "def get_gene_features(chroms, gr):\n",
    "    '''\n",
    "    Get interval tree for start/ends for \n",
    "    each gene on each chromosome\n",
    "    '''\n",
    "    gn_ref = pd.DataFrame([(g.chrom, g.start, g.end, get_gene_name(g)) for g in gr])\n",
    "    aggregator = {1: lambda x: min(x),\n",
    "                  2: lambda x: max(x)}\n",
    "    gn_ref = gn_ref.groupby([0, 3], as_index=False, sort=False).agg(aggregator)\n",
    "    gn_ref = gn_ref[[0, 1, 2, 3]]\n",
    "    gn_ref.columns = ['chrom', 'start', 'end', 'gene']\n",
    "    gn_ref = gn_ref[gn_ref.gene!='']\n",
    "\n",
    "    ref_trees = {}\n",
    "    for chrom in chroms:\n",
    "        chr_ref = gn_ref[gn_ref.chrom == chrom]\n",
    "        ref_tree = IntervalTree()\n",
    "        for s,e,g in zip(chr_ref['start'].values, chr_ref['end'].values, chr_ref['gene'].values):\n",
    "            ref_tree.addi(s-1, e, g)\n",
    "    ref_trees[chrom] = ref_tree\n",
    "    \n",
    "    return ref_trees\n",
    "\n",
    "def get_exon_seq(ex_list, strand, gr, extended=True):\n",
    "    '''\n",
    "    Extends given exon, or creates a novel downstream\n",
    "    exon with random size and returns its sequence. \n",
    "    If a reference exon exists that already extends\n",
    "    or overlaps the given exon, it will extend or place\n",
    "    the exon past the overlapping exon.\n",
    "    '''\n",
    "    # TODO: make sure exon size doesn't extend to the next exon \n",
    "    block_size = np.random.randint(BLOCK_RANGE[0], BLOCK_RANGE[1])\n",
    "    gap_size = 0 if extended else np.random.randint(BLOCK_RANGE[0], BLOCK_RANGE[1])\n",
    "    \n",
    "    block = ex_list[1] if strand == '+' else ex_list[0]\n",
    "    loc = re.compile('[:\\-\\(\\)]').split(block)\n",
    "    exon_start, exon_end = int(loc[1]), int(loc[2])\n",
    "        \n",
    "    start = exon_end + gap_size if strand == '+' else exon_start - gap_size - block_size\n",
    "    end = start + block_size\n",
    "\n",
    "    ex = get_chrom_features(loc[0], gr.merge())\n",
    "    olap = ex.overlap(int(start), int(end))\n",
    "    if len(olap) > 0:\n",
    "        coords = list(olap)[0]\n",
    "        s, e = int(coords[0]), int(coords[1])        \n",
    "        if extended:\n",
    "            start = start if strand == '+' else s - block_size\n",
    "            end = end if strand == '-' else e + block_size\n",
    "        else:          \n",
    "            start = e + gap_size if strand == '+' else s - gap_size - block_size            \n",
    "            end = start + block_size\n",
    "    \n",
    "    block_bed = '%s\\t%d\\t%d\\t.\\t1\\t%s' % (loc[0], start, end, strand)\n",
    "    block_bt = BedTool(block_bed, from_string=True)\n",
    "    block_seq, bs = get_seq(block_bt)\n",
    "    ext_seq = ''.join([bs for bs in block_seq.values()])\n",
    "    bloc = ''.join([k for k in block_seq.keys()])\n",
    "    \n",
    "    return ext_seq, bloc\n",
    "\n",
    "def increment_seed(seed, amount=1):\n",
    "    seed += amount\n",
    "    np.random.seed(seed)\n",
    "    return seed\n",
    "\n",
    "def get_random_block(chroms, gene_trees):\n",
    "    '''\n",
    "    Get random block sequence for feature\n",
    "    not overlapping any other genomic features\n",
    "    '''    \n",
    "    block_size = np.random.randint(BLOCK_RANGE[0], BLOCK_RANGE[1])\n",
    "    chrom = np.random.choice(chroms)\n",
    "    chrom_features = gene_trees[chrom]\n",
    "    \n",
    "    chr_range = chr_sizes[('chr%s' % chrom)]\n",
    "    block_start = np.random.randint(chr_range[0], chr_range[1]-block_size)\n",
    "    block_end = block_start + block_size        \n",
    "    \n",
    "    seed = SEED_INIT\n",
    "    seq = 'N'\n",
    "    while 'N' in seq:\n",
    "        # only select sequence if there's no Ns\n",
    "        while chrom_features.overlaps(block_start, block_end):\n",
    "            block_start = np.random.randint(chr_range[0], chr_range[1]-block_size)\n",
    "            block_end = block_start + block_size\n",
    "            \n",
    "            if chrom_features.overlaps(block_start, block_end):\n",
    "                seed = increment_seed(seed)\n",
    "\n",
    "        strand = np.random.choice(['+','-'])\n",
    "        block_bed = '%s\\t%d\\t%d\\t.\\t1\\t%s' % (chrom, block_start, block_end, strand)\n",
    "        block_bt = BedTool(block_bed, from_string=True)\n",
    "        block_seq, bs = get_seq(block_bt)\n",
    "        seq = ''.join([bs for bs in block_seq.values()])\n",
    "        \n",
    "        if 'N' in seq:\n",
    "            seed = increment_seed(seed)\n",
    "\n",
    "    return block_seq, seed\n",
    "\n",
    "def get_random_seq():\n",
    "    '''\n",
    "    Generate random insertion sequence\n",
    "    '''\n",
    "    ins_size = np.random.randint(INS_RANGE[0], INS_RANGE[1])\n",
    "    ins = np.random.choice(BASES, ins_size)\n",
    "    ins = ''.join(ins)\n",
    "    return ins\n",
    "\n",
    "def get_tx_seq(tx, all_exons, front=True, wt_out=True):\n",
    "    '''\n",
    "    Get fusion sequence of given transcript, returning\n",
    "    sequence of first N exons for transcript 1 (front=True)\n",
    "    and N exons for transcript 2 (front=False). By default,\n",
    "    write out wildtype transcript to control reference file.\n",
    "    '''\n",
    "    exons = all_exons.filter(lambda x: x['transcript_id'] == tx).saveas()\n",
    "    tx_seq, s = get_seq(exons)\n",
    "    ex_list = [ex for ex in tx_seq.keys()]\n",
    "    \n",
    "    # pick N 5' exons for tx1 (front) and N 3' exons for tx2 (back)\n",
    "    if front:\n",
    "        ex_list = ex_list[:N_EXONS] if s == '+' else ex_list[-N_EXONS:]\n",
    "    else:\n",
    "        ex_list = ex_list[-N_EXONS:] if s == '+' else ex_list[:N_EXONS]\n",
    "    \n",
    "    # select sequences and reverse order if antisense\n",
    "    seq = [tx_seq[ex] for ex in ex_list]\n",
    "    seq = seq if s == '+' else [s for s in reversed(seq)]  \n",
    "    \n",
    "    if wt_out:\n",
    "        write_sequence(tx_seq, s, CONTROL_FASTA_OUT, tx)\n",
    "    \n",
    "    return seq, s, ex_list\n",
    "\n",
    "def write_fusion(tx1, tx2, all_exons, add=None):\n",
    "    '''\n",
    "    Get left and right sequences of given transcripts\n",
    "    corresponding to the first N exons and last N exons of\n",
    "    transcripts 1 and 2 respectively.\n",
    "    Automatically writes wild type transcript to CONTROL_FASTA_OUT.\n",
    "    '''    \n",
    "    exon_types = ['EE', 'NE', 'INS']\n",
    "    if add and add not in exon_types:\n",
    "        raise ValueError('Invalid exon type to add, expected %s' % exon_types)\n",
    "    \n",
    "    # get sequence for tx1\n",
    "    seq1, strand1, ex1_list = get_tx_seq(tx1, all_exons)\n",
    "    \n",
    "    # add to fusion list\n",
    "    fusion_parts = [tx1]\n",
    "\n",
    "    # extended or novel exon\n",
    "    ext_seq, bloc = '', ''\n",
    "    if add == 'EE':\n",
    "        ext_seq, bloc = get_exon_seq(ex1_list, strand1, all_exons)\n",
    "    elif add == 'NE':\n",
    "        ext_seq, bloc = get_exon_seq(ex1_list, strand1, all_exons, extended=False)\n",
    "    elif add == 'INS':\n",
    "        ext_seq = get_random_seq()\n",
    "        bloc = ext_seq\n",
    "    fusion_parts.append(bloc)\n",
    "\n",
    "    seq2 = ''\n",
    "    if tx2:\n",
    "        # get sequence for tx1\n",
    "        seq2, strand2, ex2_list = get_tx_seq(tx2, all_exons, front=False)\n",
    "\n",
    "        # add to fusion list\n",
    "        fusion_parts.append(tx2)\n",
    "    else:\n",
    "        # unpartnered fusion\n",
    "        block_seq, seed = get_random_block(chroms, gene_trees)\n",
    "        seq2 = [s for s in block_seq.values()]\n",
    "        bloc = ''.join([k for k in block_seq.keys()])\n",
    "        fusion_parts.append(bloc)\n",
    "\n",
    "    seq = ''.join(seq1 + [ext_seq] + seq2)\n",
    "    name = '%s:%s:%s' % (tx1, bloc, tx2) if tx2 else '%s:%s' % (tx1, bloc)\n",
    "    \n",
    "    # write output\n",
    "    with open(FASTA_OUT, 'a') as fout:\n",
    "        fout.write('>%s\\n' % name)\n",
    "        fout.write(seq + '\\n')\n",
    "        \n",
    "    return fusion_parts"
   ]
  },
  {
   "cell_type": "code",
   "execution_count": 19,
   "metadata": {},
   "outputs": [
    {
     "name": "stdout",
     "output_type": "stream",
     "text": [
      "CPU times: user 11.3 s, sys: 199 ms, total: 11.5 s\n",
      "Wall time: 11.6 s\n"
     ]
    }
   ],
   "source": [
    "%%time\n",
    "# build GTF reference\n",
    "gr = BedTool(GTF_REF) \n",
    "\n",
    "# ensure each transcript in reference has at least N exons\n",
    "all_exons = gr.filter(lambda x: x[2] == 'exon').saveas()\n",
    "all_txs = [(tx['transcript_id'], get_gene_name(tx)) for tx in all_exons]\n",
    "valid_txs = pd.DataFrame(pd.Series(all_txs).value_counts(), columns=['exon_count'])\n",
    "valid_txs = valid_txs[valid_txs.exon_count >= MIN_EXONS]\n",
    "valid_txs = valid_txs.index.values\n",
    "\n",
    "all_genes = np.unique([gene for tx, gene in valid_txs if gene != ''])\n",
    "var_genes = np.empty(0)\n",
    "\n",
    "chr_sizes = pybedtools.chromsizes('hg38')\n",
    "chroms = np.unique([x.chrom for x in all_exons])\n",
    "\n",
    "# make gene start/end reference\n",
    "gene_trees = get_gene_features(chroms, gr)"
   ]
  },
  {
   "cell_type": "markdown",
   "metadata": {},
   "source": [
    "## Generate canonical fusions\n",
    "\n",
    "Select `N_VARS` random genes with `N_VARS` random partners and fuse first `N_EXONS` exons to `N_EXONS` terminal exons."
   ]
  },
  {
   "cell_type": "code",
   "execution_count": 20,
   "metadata": {},
   "outputs": [
    {
     "name": "stdout",
     "output_type": "stream",
     "text": [
      "Generating NCKAP1L:ALKBH2 fusion...\n",
      "Generating LOC105369676:FAM216A fusion...\n",
      "Generating DIABLO:LOC105370063 fusion...\n",
      "Generating NOP2:SLC6A13 fusion...\n",
      "Generating MRPS35:LOC105369758 fusion...\n",
      "Generating WNT10B:ANKRD33 fusion...\n",
      "Generating ESPL1:DHH fusion...\n",
      "Generating RNFT2:LINC01559 fusion...\n",
      "Generating MYF5:YARS2 fusion...\n",
      "Generating ARL6IP4:NRIP2 fusion...\n",
      "CPU times: user 49.3 s, sys: 506 ms, total: 49.8 s\n",
      "Wall time: 51.1 s\n"
     ]
    }
   ],
   "source": [
    "%%time\n",
    "# pick fusion genes\n",
    "np.random.seed(SEED_INIT)\n",
    "fus_genes = np.random.choice(all_genes, N_VARS * 2, replace=False)\n",
    "fusions = zip(fus_genes[:N_VARS], fus_genes[N_VARS:])\n",
    "fus_txs = [] # which fusions were used in the fusion; for reference\n",
    "\n",
    "# make fusion genes\n",
    "for gene1, gene2 in fusions:\n",
    "    print('Generating %s:%s fusion...' % (gene1, gene2))\n",
    "\n",
    "    # select first transcript from each gene\n",
    "    tx1 = [tx for tx, gn in valid_txs if gn == gene1][0]\n",
    "    tx2 = [tx for tx, gn in valid_txs if gn == gene2][0]\n",
    "\n",
    "    fus_parts = write_fusion(tx1, tx2, all_exons)\n",
    "    fus_parts.append('(%s:%s)' % (gene1, gene2))\n",
    "    fus_txs.append(fus_parts)"
   ]
  },
  {
   "cell_type": "markdown",
   "metadata": {},
   "source": [
    "## Generate unpartnered fusions"
   ]
  },
  {
   "cell_type": "code",
   "execution_count": 21,
   "metadata": {
    "scrolled": true
   },
   "outputs": [
    {
     "name": "stdout",
     "output_type": "stream",
     "text": [
      "Generating ORAI1 unpartnered fusion...\n",
      "Generating SMARCD1 unpartnered fusion...\n",
      "Generating LOC100507195 unpartnered fusion...\n",
      "Generating SRSF9 unpartnered fusion...\n",
      "Generating LOC105369724 unpartnered fusion...\n",
      "Generating KITLG unpartnered fusion...\n",
      "Generating YBX3 unpartnered fusion...\n",
      "Generating LOC100130268 unpartnered fusion...\n",
      "Generating LOC105369980 unpartnered fusion...\n",
      "Generating LOC102723544 unpartnered fusion...\n",
      "CPU times: user 23.9 s, sys: 293 ms, total: 24.2 s\n",
      "Wall time: 25.3 s\n"
     ]
    }
   ],
   "source": [
    "%%time\n",
    "var_genes = fus_genes.copy()\n",
    "available_genes = list(set(all_genes).symmetric_difference(var_genes))\n",
    "ufus_genes = np.random.choice(available_genes, N_VARS, replace=False)\n",
    "var_genes = np.concatenate([var_genes, ufus_genes])\n",
    "\n",
    "for idx, gene in enumerate(ufus_genes):\n",
    "    print('Generating %s unpartnered fusion...' % gene)\n",
    "                                          \n",
    "    # select first transcript from each gene\n",
    "    tx = [tx for tx, gn in valid_txs if gn == gene][0]\n",
    "        \n",
    "    fus_parts = write_fusion(tx, None, all_exons)\n",
    "    fus_parts.append('(%s:)' % (gene))\n",
    "    fus_txs.append(fus_parts) "
   ]
  },
  {
   "cell_type": "markdown",
   "metadata": {},
   "source": [
    "## Fusions with extended exon at boundary"
   ]
  },
  {
   "cell_type": "code",
   "execution_count": 22,
   "metadata": {},
   "outputs": [
    {
     "name": "stdout",
     "output_type": "stream",
     "text": [
      "Generating FAM138D:LOC105369968 fusion with extended exon...\n",
      "Generating LINC01498:LINC01486 fusion with extended exon...\n",
      "Generating LOC107984516:RILPL2 fusion with extended exon...\n",
      "Generating GALNT8:LOC105369907 fusion with extended exon...\n",
      "Generating TBC1D15:LOC100996679 fusion with extended exon...\n",
      "Generating SLC25A3:PRR13 fusion with extended exon...\n",
      "Generating LOC107984498:C1RL-AS1 fusion with extended exon...\n",
      "Generating SCAF11:LOC107987174 fusion with extended exon...\n",
      "Generating LOC100507424:NRAV fusion with extended exon...\n",
      "Generating MBD6:RPSAP52 fusion with extended exon...\n",
      "CPU times: user 55.8 s, sys: 638 ms, total: 56.4 s\n",
      "Wall time: 1min\n"
     ]
    }
   ],
   "source": [
    "%%time\n",
    "# pick fusion genes\n",
    "available_genes = list(set(all_genes).symmetric_difference(var_genes))\n",
    "efus_genes = np.random.choice(available_genes, N_VARS*2, replace=False)\n",
    "var_genes = np.concatenate([var_genes, efus_genes])\n",
    "\n",
    "# make fusion genes\n",
    "fusions = zip(efus_genes[:N_VARS], efus_genes[N_VARS:])\n",
    "for gene1, gene2 in fusions:\n",
    "    print('Generating %s:%s fusion with extended exon...' % (gene1, gene2))\n",
    "\n",
    "    # select first transcript from each gene\n",
    "    tx1 = [tx for tx, gn in valid_txs if gn == gene1][0]\n",
    "    tx2 = [tx for tx, gn in valid_txs if gn == gene2][0]\n",
    "\n",
    "    fus_parts = write_fusion(tx1, tx2, all_exons, add='EE')\n",
    "    fus_parts.append('(%s:%s)' % (gene1, gene2))\n",
    "    fus_txs.append(fus_parts)"
   ]
  },
  {
   "cell_type": "markdown",
   "metadata": {},
   "source": [
    "## Fusions with novel exons at boundary"
   ]
  },
  {
   "cell_type": "code",
   "execution_count": 23,
   "metadata": {
    "scrolled": true
   },
   "outputs": [
    {
     "name": "stdout",
     "output_type": "stream",
     "text": [
      "Generating COQ5:LOC105370076 fusion with novel exon...\n",
      "Generating C12orf80:R3HDM2 fusion with novel exon...\n",
      "Generating EIF2B1:LOC101928554 fusion with novel exon...\n",
      "Generating APOBEC1:LOC105369715 fusion with novel exon...\n",
      "Generating APAF1:RFC5 fusion with novel exon...\n",
      "Generating GLT8D2:RP11-54A9.1 fusion with novel exon...\n",
      "Generating LOC105370085:LOC107984435 fusion with novel exon...\n",
      "Generating TIMELESS:HEBP1 fusion with novel exon...\n",
      "Generating RP11-341G23.4:BLOC1S1-RDH5 fusion with novel exon...\n",
      "Generating LOC100506691:LOC105369873 fusion with novel exon...\n",
      "CPU times: user 55.6 s, sys: 669 ms, total: 56.3 s\n",
      "Wall time: 1min\n"
     ]
    }
   ],
   "source": [
    "%%time\n",
    "# pick fusion genes\n",
    "available_genes = list(set(all_genes).symmetric_difference(var_genes))\n",
    "nfus_genes = np.random.choice(available_genes, N_VARS*2, replace=False)\n",
    "var_genes = np.concatenate([var_genes, nfus_genes])\n",
    "\n",
    "# make fusion genes\n",
    "fusions = zip(nfus_genes[:N_VARS], nfus_genes[N_VARS:])\n",
    "for gene1, gene2 in fusions:\n",
    "    print('Generating %s:%s fusion with novel exon...' % (gene1, gene2))\n",
    "\n",
    "    # select first transcript from each gene\n",
    "    tx1 = [tx for tx, gn in valid_txs if gn == gene1][0]\n",
    "    tx2 = [tx for tx, gn in valid_txs if gn == gene2][0]\n",
    "\n",
    "    fus_parts = write_fusion(tx1, tx2, all_exons, add='NE')\n",
    "    fus_parts.append('(%s:%s)' % (gene1, gene2))\n",
    "    fus_txs.append(fus_parts)"
   ]
  },
  {
   "cell_type": "markdown",
   "metadata": {},
   "source": [
    "## Fusions with insertions at boundary"
   ]
  },
  {
   "cell_type": "code",
   "execution_count": 24,
   "metadata": {},
   "outputs": [
    {
     "name": "stdout",
     "output_type": "stream",
     "text": [
      "Generating LOC105369885:RARG fusion with a boundary insertion...\n",
      "Generating LOC105369759:YEATS4 fusion with a boundary insertion...\n",
      "Generating NCAPD2:NEMP1 fusion with a boundary insertion...\n",
      "Generating FAM186B:KRT6A fusion with a boundary insertion...\n",
      "Generating UBE3B:BIN2 fusion with a boundary insertion...\n",
      "Generating LINC01089:ZNF384 fusion with a boundary insertion...\n",
      "Generating PWP1:LOC107983975 fusion with a boundary insertion...\n",
      "Generating LOC107984452:DPY19L2 fusion with a boundary insertion...\n",
      "Generating KRT78:ZNF664-FAM101A fusion with a boundary insertion...\n",
      "Generating KRT8:XPOT fusion with a boundary insertion...\n",
      "CPU times: user 47.1 s, sys: 378 ms, total: 47.5 s\n",
      "Wall time: 48.7 s\n"
     ]
    }
   ],
   "source": [
    "%%time\n",
    "# pick fusion genes\n",
    "available_genes = list(set(all_genes).symmetric_difference(var_genes))\n",
    "ifus_genes = np.random.choice(available_genes, N_VARS*2, replace=False)\n",
    "var_genes = np.concatenate([var_genes, ifus_genes])\n",
    "\n",
    "# make fusion genes\n",
    "fusions = zip(ifus_genes[:N_VARS], ifus_genes[N_VARS:])\n",
    "for gene1, gene2 in fusions:\n",
    "    print('Generating %s:%s fusion with a boundary insertion...' % (gene1, gene2))\n",
    "\n",
    "    # select first transcript from each gene\n",
    "    tx1 = [tx for tx, gn in valid_txs if gn == gene1][0]\n",
    "    tx2 = [tx for tx, gn in valid_txs if gn == gene2][0]\n",
    "\n",
    "    fus_parts = write_fusion(tx1, tx2, all_exons, add='INS')\n",
    "    fus_parts.append('(%s:%s)' % (gene1, gene2))\n",
    "    fus_txs.append(fus_parts)"
   ]
  },
  {
   "cell_type": "markdown",
   "metadata": {},
   "source": [
    "## Write background genes"
   ]
  },
  {
   "cell_type": "code",
   "execution_count": 25,
   "metadata": {},
   "outputs": [
    {
     "name": "stdout",
     "output_type": "stream",
     "text": [
      "CPU times: user 4min 4s, sys: 2.55 s, total: 4min 7s\n",
      "Wall time: 4min 13s\n"
     ]
    }
   ],
   "source": [
    "%%time\n",
    "# write background genes\n",
    "available_genes = list(set(all_genes).symmetric_difference(var_genes))\n",
    "bg_set = np.random.choice(available_genes, N_BACKGROUND_GENES)\n",
    "for gene in bg_set:\n",
    "    tx = [tx for tx, gn in valid_txs if gn == gene][0]\n",
    "    exons = all_exons.filter(lambda x: x['transcript_id'] == tx).saveas()\n",
    "    tx_seq, strand = get_seq(exons)\n",
    "    write_sequence(tx_seq, strand, CONTROL_FASTA_OUT, tx)\n",
    "    write_sequence(tx_seq, strand, FASTA_OUT, tx)"
   ]
  },
  {
   "cell_type": "markdown",
   "metadata": {},
   "source": [
    "## Generate reads with Art"
   ]
  },
  {
   "cell_type": "code",
   "execution_count": 26,
   "metadata": {},
   "outputs": [
    {
     "name": "stdout",
     "output_type": "stream",
     "text": [
      "CPU times: user 2.81 ms, sys: 12.8 ms, total: 15.6 ms\n",
      "Wall time: 11.2 s\n"
     ]
    }
   ],
   "source": [
    "%%time\n",
    "# generate reads with art illumina\n",
    "seeds = np.random.randint(0, 99999, 2)\n",
    "\n",
    "subprocess.call(['mkdir', '-p', OUTDIR])\n",
    "\n",
    "# generate case sample\n",
    "subprocess.call([ART_ILLUMINA, '-ss', 'HS25', '-i', FASTA_OUT, \n",
    "                 '-p', '-l', str(READ_LEN), '-f', str(FOLD), '-m', str(FRAG_SIZE),\n",
    "                 '-s', str(FRAG_SD), '-rs', str(seeds[0]), '-o', '%s/case_R' % OUTDIR])\n",
    "\n",
    "# generate control\n",
    "subprocess.call([ART_ILLUMINA, '-ss', 'HS25', '-i', CONTROL_FASTA_OUT, \n",
    "             '-p', '-l', str(READ_LEN), '-f', str(FOLD), '-m', str(FRAG_SIZE),\n",
    "             '-s', str(FRAG_SD), '-rs', str(seeds[1]), '-o', '%s/control_R' % OUTDIR])"
   ]
  },
  {
   "cell_type": "code",
   "execution_count": 27,
   "metadata": {},
   "outputs": [
    {
     "name": "stdout",
     "output_type": "stream",
     "text": [
      "CPU times: user 3.53 ms, sys: 20.7 ms, total: 24.2 ms\n",
      "Wall time: 13.2 s\n"
     ]
    }
   ],
   "source": [
    "%%time\n",
    "for sample in ['case', 'control']:\n",
    "    for r in range(2):\n",
    "        outf = open('%s/%s_R%d.fastq.gz' % (OUTDIR, sample, (r+1)), 'w')\n",
    "        subprocess.call(['gzip', '-c', '%s/%s_R%d.fq' % (OUTDIR, sample, (r+1))], stdout=outf)\n",
    "        outf.close()"
   ]
  },
  {
   "cell_type": "code",
   "execution_count": 28,
   "metadata": {},
   "outputs": [],
   "source": [
    "fus_info = pd.DataFrame(fus_txs, columns=['tx1', 'insert', 'tx2', 'fusion'])\n",
    "fus_info['gene1'] = fus_info.fusion.apply(lambda x: x.split(':')[0][1:])\n",
    "fus_info['gene2'] = fus_info.fusion.apply(lambda x: x.split(':')[1][:-1])\n",
    "fus_info['type'] = ['canonical_fusion'] * N_VARS \\\n",
    "                   + ['unpartnered_fusion'] * N_VARS \\\n",
    "                   + ['EE_fusion'] * N_VARS \\\n",
    "                   + ['NE_fusion'] * N_VARS \\\n",
    "                   + ['INS_fusion'] * N_VARS\n",
    "del fus_info['fusion']\n",
    "fus_info.to_csv('simulated_fusions.tsv', index=False, sep='\\t')"
   ]
  }
 ],
 "metadata": {
  "kernelspec": {
   "display_name": "Python 3",
   "language": "python",
   "name": "python3"
  }
 },
 "nbformat": 4,
 "nbformat_minor": 2
}
