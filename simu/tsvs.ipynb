{
 "cells": [
  {
   "cell_type": "code",
   "execution_count": 1,
   "metadata": {},
   "outputs": [],
   "source": [
    "import os\n",
    "import numpy as np\n",
    "import pandas as pd\n",
    "import pybedtools\n",
    "import simu\n",
    "import subprocess\n",
    "from pybedtools import BedTool\n",
    "\n",
    "%load_ext autoreload"
   ]
  },
  {
   "cell_type": "code",
   "execution_count": 2,
   "metadata": {},
   "outputs": [],
   "source": [
    "# high-level parameters\n",
    "seed_init = 234\n",
    "n_vars = 10\n",
    "n_background_genes = 100\n",
    "\n",
    "# simulation parameters\n",
    "indel_range = (7, 50)\n",
    "exons_range = (1, 3)\n",
    "\n",
    "# read generation parameters\n",
    "fold = 50\n",
    "frag_size = 300\n",
    "frag_sd = 20\n",
    "read_len = 150"
   ]
  },
  {
   "cell_type": "code",
   "execution_count": 3,
   "metadata": {},
   "outputs": [],
   "source": [
    "# references\n",
    "art_illumina = '/Users/marek.cmero/apps/art_bin_MountRainier/ART_ILLUMINA'\n",
    "genome_fasta = '/Users/marek.cmero/reference/fastas/Homo_sapiens.GRCh38.dna.primary_assembly.fa'\n",
    "gtf_ref = '/Users/marek.cmero/reference/gtf/chess_mini_chr12_ref.gtf'\n",
    "out_prefix = '/Users/marek.cmero/Desktop/output/tsvs'\n",
    "control_fasta = '%s-control.fasta' % out_prefix\n",
    "case_fasta = '%s-case.fasta' % out_prefix"
   ]
  },
  {
   "cell_type": "code",
   "execution_count": 4,
   "metadata": {},
   "outputs": [
    {
     "name": "stdout",
     "output_type": "stream",
     "text": [
      "CPU times: user 11.5 s, sys: 167 ms, total: 11.6 s\n",
      "Wall time: 11.7 s\n"
     ]
    }
   ],
   "source": [
    "%%time\n",
    "\n",
    "# build GTF reference\n",
    "gr = BedTool(gtf_ref)\n",
    "\n",
    "# make gene start/end reference\n",
    "gene_trees = simu.get_gene_features(gr)\n",
    "\n",
    "# get exons and \n",
    "all_exons = gr.filter(lambda x: x[2] == 'exon').saveas()\n",
    "all_genes = np.unique([simu.get_gene_name(ex) for ex in all_exons if simu.get_gene_name(ex)!=''])\n",
    "var_genes = np.empty(0)\n",
    "tsv_info = []\n",
    "\n",
    "# cleanup and make outdir\n",
    "if os.path.exists(control_fasta):\n",
    "    os.remove(control_fasta)\n",
    "if os.path.exists(case_fasta):\n",
    "    os.remove(case_fasta)\n",
    "outdir = '/'.join(out_prefix.split('/')[:-1])\n",
    "subprocess.call(['mkdir', '-p', outdir])"
   ]
  },
  {
   "cell_type": "markdown",
   "metadata": {},
   "source": [
    "## Make deletion variants"
   ]
  },
  {
   "cell_type": "code",
   "execution_count": 5,
   "metadata": {},
   "outputs": [
    {
     "name": "stdout",
     "output_type": "stream",
     "text": [
      "Generating KRT79 deletion...\n",
      "Generating LOC105369807 deletion...\n",
      "Generating LOC105369932 deletion...\n",
      "Generating LINC00987 deletion...\n",
      "Generating RP5-944M2.2 deletion...\n",
      "Generating RP11-497G19.1 deletion...\n",
      "Generating TMEM132C deletion...\n",
      "Generating KRT6B deletion...\n",
      "Generating LOC105369701 deletion...\n",
      "Generating NECAP1 deletion...\n",
      "CPU times: user 46.5 s, sys: 325 ms, total: 46.8 s\n",
      "Wall time: 47.4 s\n"
     ]
    }
   ],
   "source": [
    "%%time\n",
    "np.random.seed(seed_init)\n",
    "del_genes = np.random.choice(all_genes, n_vars, replace=False)\n",
    "var_genes = np.concatenate([var_genes, del_genes])\n",
    "\n",
    "for gene in del_genes:\n",
    "    print('Generating %s deletion...' % gene)\n",
    "    tx = [ex['transcript_id'] for ex in all_exons if simu.get_gene_name(ex) == gene][0]\n",
    "    varsize, exon = simu.write_indel(tx, all_exons, genome_fasta, \n",
    "                                     indel_range, out_prefix, vartype='DEL')\n",
    "\n",
    "    tsv_info.append([tx, gene, varsize, exon, 'DEL'])"
   ]
  },
  {
   "cell_type": "markdown",
   "metadata": {},
   "source": [
    "## Make insertion variants"
   ]
  },
  {
   "cell_type": "code",
   "execution_count": 6,
   "metadata": {},
   "outputs": [
    {
     "name": "stdout",
     "output_type": "stream",
     "text": [
      "Generating LOC105369673 insertion...\n",
      "Generating SLCO1B1 insertion...\n",
      "Generating SLC2A14 insertion...\n",
      "Generating LOC107984541 insertion...\n",
      "Generating OLR1 insertion...\n",
      "Generating LOC105369755 insertion...\n",
      "Generating LOC105369593 insertion...\n",
      "Generating LOC400043 insertion...\n",
      "Generating RPSAP52 insertion...\n",
      "Generating PDE6H insertion...\n",
      "CPU times: user 45.4 s, sys: 288 ms, total: 45.7 s\n",
      "Wall time: 46.2 s\n"
     ]
    }
   ],
   "source": [
    "%%time\n",
    "\n",
    "available_genes = list(set(all_genes).symmetric_difference(var_genes))\n",
    "ins_genes = np.random.choice(available_genes, n_vars, replace=False)\n",
    "var_genes = np.concatenate([var_genes, ins_genes])\n",
    "\n",
    "for gene in ins_genes:\n",
    "    print('Generating %s insertion...' % gene)\n",
    "    tx = [ex['transcript_id'] for ex in all_exons if simu.get_gene_name(ex) == gene][0]\n",
    "    varsize, exon = simu.write_indel(tx, all_exons, genome_fasta,\n",
    "                                     indel_range, out_prefix, vartype='INS')\n",
    "\n",
    "    tsv_info.append([tx, gene, varsize, exon, 'INS'])"
   ]
  },
  {
   "cell_type": "markdown",
   "metadata": {},
   "source": [
    "## Make ITDs"
   ]
  },
  {
   "cell_type": "code",
   "execution_count": 7,
   "metadata": {},
   "outputs": [
    {
     "name": "stdout",
     "output_type": "stream",
     "text": [
      "Generating PA2G4 ITD...\n",
      "Generating NOP2 ITD...\n",
      "Generating BRI3BP ITD...\n",
      "Generating LOC105369930 ITD...\n",
      "Generating PPHLN1 ITD...\n",
      "Generating LOC105369811 ITD...\n",
      "Generating LRP6 ITD...\n",
      "Generating RP11-121C6.5 ITD...\n",
      "Generating DUSP6 ITD...\n",
      "Generating LINC00942 ITD...\n",
      "CPU times: user 48.4 s, sys: 401 ms, total: 48.8 s\n",
      "Wall time: 49.5 s\n"
     ]
    }
   ],
   "source": [
    "%%time\n",
    "available_genes = list(set(all_genes).symmetric_difference(var_genes))\n",
    "itd_genes = np.random.choice(available_genes, n_vars, replace=False)\n",
    "var_genes = np.concatenate([var_genes, itd_genes])\n",
    "\n",
    "for gene in itd_genes:\n",
    "    print('Generating %s ITD...' % gene)\n",
    "    tx = [ex['transcript_id'] for ex in all_exons if simu.get_gene_name(ex) == gene][0]\n",
    "    varsize, exon = simu.write_indel(tx, all_exons, genome_fasta,\n",
    "                                     indel_range, out_prefix, vartype='ITD')\n",
    "\n",
    "    tsv_info.append([tx, gene, varsize, exon, 'ITD'])"
   ]
  },
  {
   "cell_type": "markdown",
   "metadata": {},
   "source": [
    "## Make PTDs"
   ]
  },
  {
   "cell_type": "code",
   "execution_count": 8,
   "metadata": {},
   "outputs": [
    {
     "name": "stdout",
     "output_type": "stream",
     "text": [
      "Generating LOC642846 PTD...\n",
      "Generating ZNF384 PTD...\n",
      "Generating LOC107984478 PTD...\n",
      "Generating BTG1 PTD...\n",
      "Generating LOC107987180 PTD...\n",
      "Generating LOC105369761 PTD...\n",
      "Generating LOC100507560 PTD...\n",
      "Generating IRAK3 PTD...\n",
      "Generating EP400NL PTD...\n",
      "Generating LOC105369921 PTD...\n"
     ]
    }
   ],
   "source": [
    "# %%time\n",
    "%autoreload\n",
    "\n",
    "valid_txs, valid_genes = simu.get_valid_txs(all_exons, 2)\n",
    "valid_txs = np.unique([tx for tx, gn in valid_txs])\n",
    "\n",
    "available_genes = list(set(valid_genes).symmetric_difference(var_genes))\n",
    "ptd_genes = np.random.choice(available_genes, n_vars, replace=False)\n",
    "var_genes = np.concatenate([var_genes, ptd_genes])\n",
    "\n",
    "for gene in ptd_genes:\n",
    "    print('Generating %s PTD...' % gene)\n",
    "    txs = [ex['transcript_id'] for ex in all_exons if simu.get_gene_name(ex) == gene]\n",
    "    tx = [tx for tx in txs if tx in valid_txs][0]\n",
    "    n_exons, exon = simu.write_large_tsv(tx, all_exons, genome_fasta,\n",
    "                                     out_prefix, exons_range, vartype='PTD')\n",
    "\n",
    "    tsv_info.append([tx, gene, n_exons, exon, 'PTD'])"
   ]
  },
  {
   "cell_type": "markdown",
   "metadata": {},
   "source": [
    "## Make Inversions"
   ]
  },
  {
   "cell_type": "code",
   "execution_count": 9,
   "metadata": {},
   "outputs": [
    {
     "name": "stdout",
     "output_type": "stream",
     "text": [
      "Generating LOC105369995 inversion...\n",
      "Generating LRRC10 inversion...\n",
      "Generating RP11-575F12.1 inversion...\n",
      "Generating LOC400002 inversion...\n",
      "Generating RP11-983C2.2 inversion...\n",
      "Generating LOC107984457 inversion...\n",
      "Generating LOC107984522 inversion...\n",
      "Generating TMEM116 inversion...\n",
      "Generating ANO4 inversion...\n",
      "Generating HOXC-AS3 inversion...\n",
      "CPU times: user 50.2 s, sys: 512 ms, total: 50.7 s\n",
      "Wall time: 51.6 s\n"
     ]
    }
   ],
   "source": [
    "%%time\n",
    "%autoreload\n",
    "\n",
    "available_genes = list(set(valid_genes).symmetric_difference(var_genes))\n",
    "inv_genes = np.random.choice(available_genes, n_vars, replace=False)\n",
    "var_genes = np.concatenate([var_genes, inv_genes])\n",
    "\n",
    "for gene in inv_genes:\n",
    "    print('Generating %s inversion...' % gene)\n",
    "    txs = [ex['transcript_id'] for ex in all_exons if simu.get_gene_name(ex) == gene]\n",
    "    tx = [tx for tx in txs if tx in valid_txs][0]\n",
    "    n_exons, exon = simu.write_large_tsv(tx, all_exons, genome_fasta,\n",
    "                                     out_prefix, exons_range, vartype='INV')\n",
    "\n",
    "    tsv_info.append([tx, gene, n_exons, exon, 'INV'])"
   ]
  },
  {
   "cell_type": "markdown",
   "metadata": {},
   "source": [
    "## Generate reads with Art"
   ]
  },
  {
   "cell_type": "code",
   "execution_count": 10,
   "metadata": {},
   "outputs": [
    {
     "name": "stdout",
     "output_type": "stream",
     "text": [
      "CPU times: user 2.25 ms, sys: 9.41 ms, total: 11.7 ms\n",
      "Wall time: 2.38 s\n"
     ]
    }
   ],
   "source": [
    "%%time\n",
    "# generate reads with art illumina\n",
    "seeds = np.random.randint(0, 99999, 2)\n",
    "\n",
    "# generate case sample\n",
    "subprocess.call([art_illumina, '-ss', 'HS25', '-i', case_fasta, \n",
    "                 '-p', '-l', str(read_len), '-f', str(fold), '-m', str(frag_size),\n",
    "                 '-s', str(frag_sd), '-rs', str(seeds[0]), '-o', '%s-case_R' % out_prefix])\n",
    "\n",
    "# generate control\n",
    "subprocess.call([art_illumina, '-ss', 'HS25', '-i', control_fasta, \n",
    "             '-p', '-l', str(read_len), '-f', str(fold), '-m', str(frag_size),\n",
    "             '-s', str(frag_sd), '-rs', str(seeds[1]), '-o', '%s-control_R' % out_prefix])"
   ]
  },
  {
   "cell_type": "code",
   "execution_count": 11,
   "metadata": {},
   "outputs": [
    {
     "name": "stdout",
     "output_type": "stream",
     "text": [
      "CPU times: user 3.32 ms, sys: 16.2 ms, total: 19.5 ms\n",
      "Wall time: 2.8 s\n"
     ]
    }
   ],
   "source": [
    "%%time\n",
    "for sample in ['case', 'control']:\n",
    "    for r in range(2):\n",
    "        outf = open('%s-%s_R%d.fastq.gz' % (out_prefix, sample, (r+1)), 'w')\n",
    "        subprocess.call(['gzip', '-c', '%s-%s_R%d.fq' % (out_prefix, sample, (r+1))], stdout=outf)\n",
    "        outf.close()"
   ]
  },
  {
   "cell_type": "code",
   "execution_count": 12,
   "metadata": {},
   "outputs": [],
   "source": [
    "info = pd.DataFrame(tsv_info, columns=['tx', 'gene', 'size', 'exon', 'vartype'])\n",
    "info.to_csv('%s_simulated.tsv' % out_prefix, index=False, sep='\\t')"
   ]
  }
 ],
 "metadata": {
  "kernelspec": {
   "display_name": "Python 3",
   "language": "python",
   "name": "python3"
  },
  "language_info": {
   "codemirror_mode": {
    "name": "ipython",
    "version": 3
   },
   "file_extension": ".py",
   "mimetype": "text/x-python",
   "name": "python",
   "nbconvert_exporter": "python",
   "pygments_lexer": "ipython3",
   "version": "3.6.6"
  }
 },
 "nbformat": 4,
 "nbformat_minor": 2
}
