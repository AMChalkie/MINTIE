{
 "cells": [
  {
   "cell_type": "code",
   "execution_count": 1,
   "metadata": {},
   "outputs": [],
   "source": [
    "import os\n",
    "import numpy as np\n",
    "import pandas as pd\n",
    "import pybedtools\n",
    "import simu\n",
    "import subprocess\n",
    "from pybedtools import BedTool\n",
    "\n",
    "%load_ext autoreload"
   ]
  },
  {
   "cell_type": "code",
   "execution_count": 2,
   "metadata": {},
   "outputs": [],
   "source": [
    "# high-level parameters\n",
    "seed_init = 234\n",
    "n_vars = 10\n",
    "n_background_genes = 100\n",
    "\n",
    "# simulation parameters\n",
    "indel_range = (7, 50)\n",
    "exons_range = (1, 3)\n",
    "\n",
    "# read generation parameters\n",
    "fold = 50\n",
    "frag_size = 300\n",
    "frag_sd = 20\n",
    "read_len = 150"
   ]
  },
  {
   "cell_type": "code",
   "execution_count": 3,
   "metadata": {},
   "outputs": [],
   "source": [
    "# references/output files\n",
    "art_illumina = '/Users/marek.cmero/apps/art_bin_MountRainier/ART_ILLUMINA'\n",
    "genome_fasta = '/Users/marek.cmero/reference/fastas/Homo_sapiens.GRCh38.dna.primary_assembly.fa'\n",
    "gtf_ref = '/Users/marek.cmero/reference/gtf/chess_mini_chr12_ref.gtf'\n",
    "out_prefix = '/Users/marek.cmero/Desktop/output/tsvs'\n",
    "control_fasta = '%s-control.fasta' % out_prefix\n",
    "case_fasta = '%s-case.fasta' % out_prefix"
   ]
  },
  {
   "cell_type": "code",
   "execution_count": 4,
   "metadata": {},
   "outputs": [
    {
     "name": "stdout",
     "output_type": "stream",
     "text": [
      "CPU times: user 13.1 s, sys: 299 ms, total: 13.4 s\n",
      "Wall time: 13.6 s\n"
     ]
    }
   ],
   "source": [
    "%%time\n",
    "\n",
    "# build GTF reference\n",
    "gr = BedTool(gtf_ref)\n",
    "\n",
    "# make gene start/end reference\n",
    "gene_trees = simu.get_gene_features(gr)\n",
    "\n",
    "# get exons and \n",
    "all_exons = gr.filter(lambda x: x[2] == 'exon').saveas()\n",
    "all_genes = np.unique([simu.get_gene_name(ex) for ex in all_exons if simu.get_gene_name(ex)!=''])\n",
    "var_genes = np.empty(0)\n",
    "tsv_info = []\n",
    "\n",
    "# cleanup and make outdir\n",
    "if os.path.exists(control_fasta):\n",
    "    os.remove(control_fasta)\n",
    "if os.path.exists(case_fasta):\n",
    "    os.remove(case_fasta)\n",
    "outdir = '/'.join(out_prefix.split('/')[:-1])\n",
    "subprocess.call(['mkdir', '-p', outdir])"
   ]
  },
  {
   "cell_type": "markdown",
   "metadata": {},
   "source": [
    "## Make deletion variants"
   ]
  },
  {
   "cell_type": "code",
   "execution_count": 5,
   "metadata": {},
   "outputs": [
    {
     "name": "stdout",
     "output_type": "stream",
     "text": [
      "Generating KRT79 deletion...\n",
      "Generating LOC105369807 deletion...\n",
      "Generating LOC105369932 deletion...\n",
      "Generating LINC00987 deletion...\n",
      "Generating RP5-944M2.2 deletion...\n",
      "Generating RP11-497G19.1 deletion...\n",
      "Generating TMEM132C deletion...\n",
      "Generating KRT6B deletion...\n",
      "Generating LOC105369701 deletion...\n",
      "Generating NECAP1 deletion...\n",
      "CPU times: user 54.5 s, sys: 749 ms, total: 55.2 s\n",
      "Wall time: 56.5 s\n"
     ]
    }
   ],
   "source": [
    "%%time\n",
    "np.random.seed(seed_init)\n",
    "del_genes = np.random.choice(all_genes, n_vars, replace=False)\n",
    "var_genes = np.concatenate([var_genes, del_genes])\n",
    "\n",
    "for gene in del_genes:\n",
    "    print('Generating %s deletion...' % gene)\n",
    "    tx = [ex['transcript_id'] for ex in all_exons if simu.get_gene_name(ex) == gene][0]\n",
    "    varsize, exon = simu.write_indel(tx, all_exons, genome_fasta, \n",
    "                                     indel_range, out_prefix, vartype='DEL')\n",
    "\n",
    "    tsv_info.append([tx, gene, varsize, exon, 'DEL'])"
   ]
  },
  {
   "cell_type": "markdown",
   "metadata": {},
   "source": [
    "## Make insertion variants"
   ]
  },
  {
   "cell_type": "code",
   "execution_count": 6,
   "metadata": {},
   "outputs": [
    {
     "name": "stdout",
     "output_type": "stream",
     "text": [
      "Generating LOC105369697 insertion...\n",
      "Generating KMT2D insertion...\n",
      "Generating LOC105369682 insertion...\n",
      "Generating LOC105369665 insertion...\n",
      "Generating LOC102724261 insertion...\n",
      "Generating LOC101928705 insertion...\n",
      "Generating SMCO3 insertion...\n",
      "Generating RP11-116D17.5 insertion...\n",
      "Generating LOC100996246 insertion...\n",
      "Generating RP11-465L8.1 insertion...\n",
      "CPU times: user 52.6 s, sys: 604 ms, total: 53.2 s\n",
      "Wall time: 54.1 s\n"
     ]
    }
   ],
   "source": [
    "%%time\n",
    "%autoreload\n",
    "np.random.seed(seed_init)\n",
    "available_genes = list(set(all_genes).symmetric_difference(var_genes))\n",
    "ins_genes = np.random.choice(available_genes, n_vars, replace=False)\n",
    "var_genes = np.concatenate([var_genes, ins_genes])\n",
    "\n",
    "for gene in ins_genes:\n",
    "    print('Generating %s insertion...' % gene)\n",
    "    tx = [ex['transcript_id'] for ex in all_exons if simu.get_gene_name(ex) == gene][0]\n",
    "    varsize, exon = simu.write_indel(tx, all_exons, genome_fasta,\n",
    "                                     indel_range, out_prefix, vartype='INS')\n",
    "\n",
    "    tsv_info.append([tx, gene, varsize, exon, 'INS'])"
   ]
  },
  {
   "cell_type": "markdown",
   "metadata": {},
   "source": [
    "## Make ITDs"
   ]
  },
  {
   "cell_type": "code",
   "execution_count": 7,
   "metadata": {},
   "outputs": [
    {
     "name": "stdout",
     "output_type": "stream",
     "text": [
      "Generating ARNTL2-AS1 ITD...\n",
      "Generating GLTP ITD...\n",
      "Generating ANAPC5 ITD...\n",
      "Generating MORN3 ITD...\n",
      "Generating LOC102724433 ITD...\n",
      "Generating BCL7A ITD...\n",
      "Generating ANKRD13A ITD...\n",
      "Generating DDX47 ITD...\n",
      "Generating RP11-83B20.3 ITD...\n",
      "Generating CLEC4E ITD...\n",
      "CPU times: user 52.8 s, sys: 604 ms, total: 53.4 s\n",
      "Wall time: 54.3 s\n"
     ]
    }
   ],
   "source": [
    "%%time\n",
    "np.random.seed(seed_init)\n",
    "available_genes = list(set(all_genes).symmetric_difference(var_genes))\n",
    "itd_genes = np.random.choice(available_genes, n_vars, replace=False)\n",
    "var_genes = np.concatenate([var_genes, itd_genes])\n",
    "\n",
    "for gene in itd_genes:\n",
    "    print('Generating %s ITD...' % gene)\n",
    "    tx = [ex['transcript_id'] for ex in all_exons if simu.get_gene_name(ex) == gene][0]\n",
    "    varsize, exon = simu.write_indel(tx, all_exons, genome_fasta,\n",
    "                                     indel_range, out_prefix, vartype='ITD')\n",
    "\n",
    "    tsv_info.append([tx, gene, varsize, exon, 'ITD'])"
   ]
  },
  {
   "cell_type": "markdown",
   "metadata": {},
   "source": [
    "## Make PTDs"
   ]
  },
  {
   "cell_type": "code",
   "execution_count": 8,
   "metadata": {},
   "outputs": [
    {
     "name": "stdout",
     "output_type": "stream",
     "text": [
      "Generating FAM222A-AS1 PTD...\n",
      "Generating LOC105369902 PTD...\n",
      "Generating HOXC8 PTD...\n",
      "Generating CDKN1B PTD...\n",
      "Generating LOC105369891 PTD...\n",
      "Generating LOC105369602 PTD...\n",
      "Generating RP11-328J6.1 PTD...\n",
      "Generating LOC101927484 PTD...\n",
      "Generating PRDM4 PTD...\n",
      "Generating LOC107984458 PTD...\n",
      "CPU times: user 58.5 s, sys: 882 ms, total: 59.4 s\n",
      "Wall time: 1min 1s\n"
     ]
    }
   ],
   "source": [
    "%%time\n",
    "%autoreload\n",
    "np.random.seed(seed_init)\n",
    "\n",
    "valid_txs, valid_genes = simu.get_valid_txs(all_exons, 2)\n",
    "valid_txs = np.unique([tx for tx, gn in valid_txs])\n",
    "\n",
    "available_genes = list(set(valid_genes).symmetric_difference(var_genes))\n",
    "ptd_genes = np.random.choice(available_genes, n_vars, replace=False)\n",
    "var_genes = np.concatenate([var_genes, ptd_genes])\n",
    "\n",
    "for gene in ptd_genes:\n",
    "    print('Generating %s PTD...' % gene)\n",
    "    txs = [ex['transcript_id'] for ex in all_exons if simu.get_gene_name(ex) == gene]\n",
    "    tx = [tx for tx in txs if tx in valid_txs][0]\n",
    "    n_exons, exon = simu.write_large_tsv(tx, all_exons, genome_fasta,\n",
    "                                     out_prefix, exons_range, vartype='PTD')\n",
    "\n",
    "    tsv_info.append([tx, gene, n_exons, exon, 'PTD'])"
   ]
  },
  {
   "cell_type": "markdown",
   "metadata": {},
   "source": [
    "## Make Inversions"
   ]
  },
  {
   "cell_type": "code",
   "execution_count": 9,
   "metadata": {},
   "outputs": [
    {
     "name": "stdout",
     "output_type": "stream",
     "text": [
      "Generating LOC107987180 inversion...\n",
      "Generating IFT81 inversion...\n",
      "Generating LOC105370034 inversion...\n",
      "Generating LOC105370065 inversion...\n",
      "Generating CACNA1C-AS1 inversion...\n",
      "Generating HVCN1 inversion...\n",
      "Generating RP11-20D14.3 inversion...\n",
      "Generating AGAP2-AS1 inversion...\n",
      "Generating AVPR1A inversion...\n",
      "Generating NUP107 inversion...\n",
      "CPU times: user 53 s, sys: 676 ms, total: 53.7 s\n",
      "Wall time: 54.7 s\n"
     ]
    }
   ],
   "source": [
    "%%time\n",
    "%autoreload\n",
    "np.random.seed(seed_init)\n",
    "\n",
    "available_genes = list(set(valid_genes).symmetric_difference(var_genes))\n",
    "inv_genes = np.random.choice(available_genes, n_vars, replace=False)\n",
    "var_genes = np.concatenate([var_genes, inv_genes])\n",
    "\n",
    "for gene in inv_genes:\n",
    "    print('Generating %s inversion...' % gene)\n",
    "    txs = [ex['transcript_id'] for ex in all_exons if simu.get_gene_name(ex) == gene]\n",
    "    tx = [tx for tx in txs if tx in valid_txs][0]\n",
    "    n_exons, exon = simu.write_large_tsv(tx, all_exons, genome_fasta,\n",
    "                                     out_prefix, exons_range, vartype='INV')\n",
    "\n",
    "    tsv_info.append([tx, gene, n_exons, exon, 'INV'])"
   ]
  },
  {
   "cell_type": "markdown",
   "metadata": {},
   "source": [
    "## Generate reads with Art"
   ]
  },
  {
   "cell_type": "code",
   "execution_count": 10,
   "metadata": {},
   "outputs": [
    {
     "name": "stdout",
     "output_type": "stream",
     "text": [
      "CPU times: user 2.88 ms, sys: 10.5 ms, total: 13.4 ms\n",
      "Wall time: 3.66 s\n"
     ]
    }
   ],
   "source": [
    "%%time\n",
    "# generate reads with art illumina\n",
    "np.random.seed(seed_init)\n",
    "seeds = np.random.randint(0, 99999, 2)\n",
    "\n",
    "# generate case sample\n",
    "subprocess.call([art_illumina, '-ss', 'HS25', '-i', case_fasta, \n",
    "                 '-p', '-l', str(read_len), '-f', str(fold), '-m', str(frag_size),\n",
    "                 '-s', str(frag_sd), '-rs', str(seeds[0]), '-o', '%s-case_R' % out_prefix])\n",
    "\n",
    "# generate control\n",
    "subprocess.call([art_illumina, '-ss', 'HS25', '-i', control_fasta, \n",
    "             '-p', '-l', str(read_len), '-f', str(fold), '-m', str(frag_size),\n",
    "             '-s', str(frag_sd), '-rs', str(seeds[1]), '-o', '%s-control_R' % out_prefix])"
   ]
  },
  {
   "cell_type": "code",
   "execution_count": 11,
   "metadata": {},
   "outputs": [
    {
     "name": "stdout",
     "output_type": "stream",
     "text": [
      "CPU times: user 3.6 ms, sys: 17.8 ms, total: 21.4 ms\n",
      "Wall time: 4.35 s\n"
     ]
    }
   ],
   "source": [
    "%%time\n",
    "for sample in ['case', 'control']:\n",
    "    for r in range(2):\n",
    "        outf = open('%s-%s_R%d.fastq.gz' % (out_prefix, sample, (r+1)), 'w')\n",
    "        subprocess.call(['gzip', '-c', '%s-%s_R%d.fq' % (out_prefix, sample, (r+1))], stdout=outf)\n",
    "        outf.close()"
   ]
  },
  {
   "cell_type": "code",
   "execution_count": 12,
   "metadata": {},
   "outputs": [],
   "source": [
    "info = pd.DataFrame(tsv_info, columns=['tx', 'gene', 'size', 'exon', 'vartype'])\n",
    "info.to_csv('%s_simulated.tsv' % out_prefix, index=False, sep='\\t')"
   ]
  }
 ],
 "metadata": {
  "kernelspec": {
   "display_name": "Python 3",
   "language": "python",
   "name": "python3"
  },
  "language_info": {
   "codemirror_mode": {
    "name": "ipython",
    "version": 3
   },
   "file_extension": ".py",
   "mimetype": "text/x-python",
   "name": "python",
   "nbconvert_exporter": "python",
   "pygments_lexer": "ipython3",
   "version": "3.6.6"
  }
 },
 "nbformat": 4,
 "nbformat_minor": 2
}
