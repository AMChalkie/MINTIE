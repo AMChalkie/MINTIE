{
 "cells": [
  {
   "cell_type": "code",
   "execution_count": 1,
   "metadata": {},
   "outputs": [],
   "source": [
    "import os\n",
    "import numpy as np\n",
    "import pandas as pd\n",
    "import pybedtools\n",
    "import simu\n",
    "import subprocess\n",
    "from pybedtools import BedTool\n",
    "from IPython.core.debugger import set_trace\n",
    "\n",
    "%load_ext autoreload\n",
    "\n",
    "# high-level parameters\n",
    "seed_init = 234\n",
    "n_vars = 10\n",
    "n_background_genes = 100\n",
    "\n",
    "# simulation parameters\n",
    "indel_range = (7, 50)\n",
    "exons_range = (1, 3)\n",
    "\n",
    "# read generation parameters\n",
    "fold = 50\n",
    "frag_size = 300\n",
    "frag_sd = 20\n",
    "read_len = 150\n",
    "\n",
    "# references/output files\n",
    "art_illumina = '/Users/marek.cmero/apps/art_bin_MountRainier/ART_ILLUMINA'\n",
    "genome_fasta = '/Users/marek.cmero/reference/fastas/Homo_sapiens.GRCh38.dna.primary_assembly.fa'\n",
    "gtf_ref = '/Users/marek.cmero/reference/gtf/chess_mini_chr12_ref.gtf'\n",
    "out_prefix = '/Users/marek.cmero/Desktop/output/tsvs'\n",
    "control_fasta = '%s-control.fasta' % out_prefix\n",
    "case_fasta = '%s-case.fasta' % out_prefix"
   ]
  },
  {
   "cell_type": "code",
   "execution_count": 2,
   "metadata": {},
   "outputs": [
    {
     "name": "stdout",
     "output_type": "stream",
     "text": [
      "CPU times: user 12.3 s, sys: 231 ms, total: 12.6 s\n",
      "Wall time: 12.7 s\n"
     ]
    }
   ],
   "source": [
    "%%time\n",
    "\n",
    "# build GTF reference\n",
    "gr = BedTool(gtf_ref)\n",
    "\n",
    "# make gene start/end reference\n",
    "gene_trees = simu.get_gene_features(gr)\n",
    "\n",
    "# get exons for records that have a gene name\n",
    "all_exons = gr.filter(lambda x: x[2] == 'exon').saveas()\n",
    "all_genes = np.unique([simu.get_gene_name(ex) for ex in all_exons if simu.get_gene_name(ex)!=''])\n",
    "tsv_info = []\n",
    "\n",
    "# cleanup and make outdir\n",
    "if os.path.exists(control_fasta):\n",
    "    os.remove(control_fasta)\n",
    "if os.path.exists(case_fasta):\n",
    "    os.remove(case_fasta)\n",
    "outdir = '/'.join(out_prefix.split('/')[:-1])\n",
    "subprocess.call(['mkdir', '-p', outdir])"
   ]
  },
  {
   "cell_type": "markdown",
   "metadata": {},
   "source": [
    "## Make deletion variants"
   ]
  },
  {
   "cell_type": "code",
   "execution_count": 3,
   "metadata": {},
   "outputs": [
    {
     "name": "stdout",
     "output_type": "stream",
     "text": [
      "Generating KRT79 deletion...\n",
      "Generating LOC105369807 deletion...\n",
      "Generating LOC105369932 deletion...\n",
      "Generating LINC00987 deletion...\n",
      "Generating RP5-944M2.2 deletion...\n",
      "Generating RP11-497G19.1 deletion...\n",
      "Generating TMEM132C deletion...\n",
      "Generating KRT6B deletion...\n",
      "Generating LOC105369701 deletion...\n",
      "Generating NECAP1 deletion...\n",
      "CPU times: user 1min 13s, sys: 620 ms, total: 1min 13s\n",
      "Wall time: 1min 14s\n"
     ]
    }
   ],
   "source": [
    "%%time\n",
    "\n",
    "np.random.seed(seed_init)\n",
    "del_genes, available_genes = simu.pick_genes(n_vars, all_genes)\n",
    "\n",
    "for gene in del_genes:\n",
    "    print('Generating %s deletion...' % gene)\n",
    "    \n",
    "    tx = simu.get_transcripts(gene, all_exons)[0]\n",
    "    varsize, exon = simu.write_indel(tx, all_exons, genome_fasta, \n",
    "                                     indel_range, out_prefix, vartype='DEL')\n",
    "\n",
    "    chrom = simu.get_tx_chrom(tx, all_exons)\n",
    "    loc = simu.get_gene_loc(chrom, gene_trees, gene)\n",
    "    tsv_info.append([loc, tx, gene, varsize, exon, 'DEL'])"
   ]
  },
  {
   "cell_type": "markdown",
   "metadata": {},
   "source": [
    "## Make insertion variants"
   ]
  },
  {
   "cell_type": "code",
   "execution_count": 4,
   "metadata": {},
   "outputs": [
    {
     "name": "stdout",
     "output_type": "stream",
     "text": [
      "Generating RP11-70F11.11 insertion...\n",
      "Generating ZNF10 insertion...\n",
      "Generating RASSF8-AS1 insertion...\n",
      "Generating TBX5-AS1 insertion...\n",
      "Generating CCER1 insertion...\n",
      "Generating LOC107984531 insertion...\n",
      "Generating LOC100506691 insertion...\n",
      "Generating LOC101928362 insertion...\n",
      "Generating C12orf43 insertion...\n",
      "Generating OR6C4 insertion...\n",
      "CPU times: user 1min 10s, sys: 398 ms, total: 1min 10s\n",
      "Wall time: 1min 11s\n"
     ]
    }
   ],
   "source": [
    "%%time\n",
    "\n",
    "ins_genes, available_genes = simu.pick_genes(n_vars, available_genes)\n",
    "\n",
    "for gene in ins_genes:\n",
    "    print('Generating %s insertion...' % gene)\n",
    "\n",
    "    tx = simu.get_transcripts(gene, all_exons)[0]\n",
    "    varsize, exon = simu.write_indel(tx, all_exons, genome_fasta,\n",
    "                                     indel_range, out_prefix, vartype='INS')\n",
    "\n",
    "    chrom = simu.get_tx_chrom(tx, all_exons)\n",
    "    loc = simu.get_gene_loc(chrom, gene_trees, gene)\n",
    "    tsv_info.append([loc, tx, gene, varsize, exon, 'INS'])"
   ]
  },
  {
   "cell_type": "markdown",
   "metadata": {},
   "source": [
    "## Make ITDs"
   ]
  },
  {
   "cell_type": "code",
   "execution_count": 5,
   "metadata": {},
   "outputs": [
    {
     "name": "stdout",
     "output_type": "stream",
     "text": [
      "Generating RP11-424M22.3 ITD...\n",
      "Generating ATXN7L3B ITD...\n",
      "Generating LLPH ITD...\n",
      "Generating LALBA ITD...\n",
      "Generating FOXJ2 ITD...\n",
      "Generating RP11-69M1.6 ITD...\n",
      "Generating LOC101929432 ITD...\n",
      "Generating TRHDE ITD...\n",
      "Generating LOC102724834 ITD...\n",
      "Generating LOC107987180 ITD...\n",
      "CPU times: user 1min 10s, sys: 395 ms, total: 1min 10s\n",
      "Wall time: 1min 11s\n"
     ]
    }
   ],
   "source": [
    "%%time\n",
    "\n",
    "itd_genes, available_genes = simu.pick_genes(n_vars, available_genes)\n",
    "\n",
    "for gene in itd_genes:\n",
    "    print('Generating %s ITD...' % gene)\n",
    "\n",
    "    tx = simu.get_transcripts(gene, all_exons)[0]\n",
    "    varsize, exon = simu.write_indel(tx, all_exons, genome_fasta,\n",
    "                                     indel_range, out_prefix, vartype='ITD')\n",
    "\n",
    "    chrom = simu.get_tx_chrom(tx, all_exons)\n",
    "    loc = simu.get_gene_loc(chrom, gene_trees, gene)\n",
    "    tsv_info.append([loc, tx, gene, varsize, exon, 'ITD'])"
   ]
  },
  {
   "cell_type": "markdown",
   "metadata": {},
   "source": [
    "## Make PTDs"
   ]
  },
  {
   "cell_type": "code",
   "execution_count": 6,
   "metadata": {},
   "outputs": [
    {
     "name": "stdout",
     "output_type": "stream",
     "text": [
      "Generating RP11-320N7.2 PTD...\n",
      "Generating DNAH10 PTD...\n",
      "Generating LACRT PTD...\n",
      "Generating LOC105369965 PTD...\n",
      "Generating LOC101928002 PTD...\n",
      "Generating LOC105369878 PTD...\n",
      "Generating MYF5 PTD...\n",
      "Generating TM7SF3 PTD...\n",
      "Generating ART4 PTD...\n",
      "Generating KLRC4-KLRK1 PTD...\n",
      "CPU times: user 1min 16s, sys: 604 ms, total: 1min 16s\n",
      "Wall time: 1min 17s\n"
     ]
    }
   ],
   "source": [
    "%%time\n",
    "\n",
    "valid_txs, valid_genes = simu.get_valid_txs(all_exons, 2)\n",
    "valid_txs = np.unique([tx for tx, gn in valid_txs])\n",
    "\n",
    "available_genes = [gene for gene in available_genes if gene in valid_genes]\n",
    "ptd_genes, available_genes = simu.pick_genes(n_vars, available_genes)\n",
    "\n",
    "for gene in ptd_genes:\n",
    "    print('Generating %s PTD...' % gene)\n",
    "    \n",
    "    tx = simu.get_transcripts(gene, all_exons, valid_txs=valid_txs)[0]\n",
    "    n_exons, exon = simu.write_large_tsv(tx, all_exons, genome_fasta,\n",
    "                                     out_prefix, exons_range, vartype='PTD')\n",
    "\n",
    "    chrom = simu.get_tx_chrom(tx, all_exons)\n",
    "    loc = simu.get_gene_loc(chrom, gene_trees, gene)\n",
    "    tsv_info.append([loc, tx, gene, n_exons, exon, 'PTD'])"
   ]
  },
  {
   "cell_type": "markdown",
   "metadata": {},
   "source": [
    "## Make Inversions"
   ]
  },
  {
   "cell_type": "code",
   "execution_count": 7,
   "metadata": {},
   "outputs": [
    {
     "name": "stdout",
     "output_type": "stream",
     "text": [
      "Generating RP13-81N3.2 inversion...\n",
      "Generating LOC107984446 inversion...\n",
      "Generating RP5-944M2.1 inversion...\n",
      "Generating PUS1 inversion...\n",
      "Generating RP11-413B19.2 inversion...\n",
      "Generating PLEKHG6 inversion...\n",
      "Generating FAM109A inversion...\n",
      "Generating LOC100128276 inversion...\n",
      "Generating LOC107984433 inversion...\n",
      "Generating KRT71 inversion...\n",
      "CPU times: user 1min 16s, sys: 816 ms, total: 1min 17s\n",
      "Wall time: 1min 18s\n"
     ]
    }
   ],
   "source": [
    "%%time\n",
    "\n",
    "inv_genes, available_genes = simu.pick_genes(n_vars, available_genes)\n",
    "\n",
    "for gene in inv_genes:\n",
    "    print('Generating %s inversion...' % gene)\n",
    "\n",
    "    tx = simu.get_transcripts(gene, all_exons, valid_txs=valid_txs)[0]\n",
    "    n_exons, exon = simu.write_large_tsv(tx, all_exons, genome_fasta,\n",
    "                                         out_prefix, exons_range, vartype='INV')\n",
    "\n",
    "    chrom = simu.get_tx_chrom(tx, all_exons)\n",
    "    loc = simu.get_gene_loc(chrom, gene_trees, gene)\n",
    "    tsv_info.append([loc, tx, gene, n_exons, exon, 'INV'])"
   ]
  },
  {
   "cell_type": "markdown",
   "metadata": {},
   "source": [
    "## Background genes"
   ]
  },
  {
   "cell_type": "code",
   "execution_count": 8,
   "metadata": {},
   "outputs": [
    {
     "name": "stdout",
     "output_type": "stream",
     "text": [
      "CPU times: user 8min 37s, sys: 6.18 s, total: 8min 43s\n",
      "Wall time: 8min 53s\n"
     ]
    }
   ],
   "source": [
    "%%time\n",
    "bg_set, available_genes = simu.pick_genes(n_background_genes, available_genes)\n",
    "for gene in bg_set:\n",
    "    tx = simu.get_transcripts(gene, all_exons, valid_txs=valid_txs)[0]\n",
    "    exons = all_exons.filter(lambda x: x['transcript_id'] == tx).saveas()\n",
    "    tx_seq, strand = simu.get_seq(exons, genome_fasta)\n",
    "    simu.write_wildtype_sequence(tx_seq, strand, control_fasta, tx)\n",
    "    simu.write_wildtype_sequence(tx_seq, strand, case_fasta, tx)"
   ]
  },
  {
   "cell_type": "markdown",
   "metadata": {},
   "source": [
    "## Generate reads with Art"
   ]
  },
  {
   "cell_type": "code",
   "execution_count": 9,
   "metadata": {},
   "outputs": [
    {
     "name": "stdout",
     "output_type": "stream",
     "text": [
      "CPU times: user 2.03 ms, sys: 9.16 ms, total: 11.2 ms\n",
      "Wall time: 9.49 s\n"
     ]
    }
   ],
   "source": [
    "%%time\n",
    "# generate reads with art illumina\n",
    "seeds = np.random.randint(0, 99999, 2)\n",
    "\n",
    "# generate case sample\n",
    "subprocess.call([art_illumina, '-ss', 'HS25', '-i', case_fasta, \n",
    "                 '-p', '-l', str(read_len), '-f', str(fold), '-m', str(frag_size),\n",
    "                 '-s', str(frag_sd), '-rs', str(seeds[0]), '-o', '%s-case_R' % out_prefix])\n",
    "\n",
    "# generate control\n",
    "subprocess.call([art_illumina, '-ss', 'HS25', '-i', control_fasta, \n",
    "             '-p', '-l', str(read_len), '-f', str(fold), '-m', str(frag_size),\n",
    "             '-s', str(frag_sd), '-rs', str(seeds[1]), '-o', '%s-control_R' % out_prefix])"
   ]
  },
  {
   "cell_type": "code",
   "execution_count": 10,
   "metadata": {},
   "outputs": [
    {
     "name": "stdout",
     "output_type": "stream",
     "text": [
      "CPU times: user 4.48 ms, sys: 18.3 ms, total: 22.8 ms\n",
      "Wall time: 11 s\n"
     ]
    }
   ],
   "source": [
    "%%time\n",
    "for sample in ['case', 'control']:\n",
    "    for r in range(2):\n",
    "        outf = open('%s-%s_R%d.fastq.gz' % (out_prefix, sample, (r+1)), 'w')\n",
    "        subprocess.call(['gzip', '-c', '%s-%s_R%d.fq' % (out_prefix, sample, (r+1))], stdout=outf)\n",
    "        outf.close()"
   ]
  },
  {
   "cell_type": "code",
   "execution_count": 11,
   "metadata": {},
   "outputs": [],
   "source": [
    "info = pd.DataFrame(tsv_info, columns=['loc', 'tx', 'gene', 'size', 'exon', 'vartype'])\n",
    "info.to_csv('%s_simulated.tsv' % out_prefix, index=False, sep='\\t')"
   ]
  }
 ],
 "metadata": {
  "kernelspec": {
   "display_name": "Python 3",
   "language": "python",
   "name": "python3"
  },
  "language_info": {
   "codemirror_mode": {
    "name": "ipython",
    "version": 3
   },
   "file_extension": ".py",
   "mimetype": "text/x-python",
   "name": "python",
   "nbconvert_exporter": "python",
   "pygments_lexer": "ipython3",
   "version": "3.6.6"
  }
 },
 "nbformat": 4,
 "nbformat_minor": 2
}
