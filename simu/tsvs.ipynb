{
 "cells": [
  {
   "cell_type": "code",
   "execution_count": 1,
   "metadata": {},
   "outputs": [],
   "source": [
    "import os\n",
    "import numpy as np\n",
    "import pandas as pd\n",
    "import pybedtools\n",
    "import simu\n",
    "import subprocess\n",
    "from pybedtools import BedTool\n",
    "from IPython.core.debugger import set_trace\n",
    "\n",
    "%load_ext autoreload"
   ]
  },
  {
   "cell_type": "code",
   "execution_count": 2,
   "metadata": {},
   "outputs": [],
   "source": [
    "# high-level parameters\n",
    "seed_init = 234\n",
    "n_vars = 10\n",
    "n_background_genes = 100\n",
    "\n",
    "# simulation parameters\n",
    "indel_range = (7, 50)\n",
    "exons_range = (1, 3)\n",
    "\n",
    "# read generation parameters\n",
    "fold = 50\n",
    "frag_size = 300\n",
    "frag_sd = 20\n",
    "read_len = 150"
   ]
  },
  {
   "cell_type": "code",
   "execution_count": 3,
   "metadata": {},
   "outputs": [],
   "source": [
    "# references/output files\n",
    "art_illumina = '/Users/marek.cmero/apps/art_bin_MountRainier/ART_ILLUMINA'\n",
    "genome_fasta = '/Users/marek.cmero/reference/fastas/Homo_sapiens.GRCh38.dna.primary_assembly.fa'\n",
    "gtf_ref = '/Users/marek.cmero/reference/gtf/chess_mini_chr12_ref.gtf'\n",
    "out_prefix = '/Users/marek.cmero/Desktop/output/tsvs'\n",
    "control_fasta = '%s-control.fasta' % out_prefix\n",
    "case_fasta = '%s-case.fasta' % out_prefix"
   ]
  },
  {
   "cell_type": "code",
   "execution_count": 4,
   "metadata": {},
   "outputs": [
    {
     "name": "stdout",
     "output_type": "stream",
     "text": [
      "CPU times: user 12.6 s, sys: 295 ms, total: 12.9 s\n",
      "Wall time: 13.1 s\n"
     ]
    }
   ],
   "source": [
    "%%time\n",
    "\n",
    "# build GTF reference\n",
    "gr = BedTool(gtf_ref)\n",
    "\n",
    "# make gene start/end reference\n",
    "gene_trees = simu.get_gene_features(gr)\n",
    "\n",
    "# get exons and \n",
    "all_exons = gr.filter(lambda x: x[2] == 'exon').saveas()\n",
    "all_genes = np.unique([simu.get_gene_name(ex) for ex in all_exons if simu.get_gene_name(ex)!=''])\n",
    "var_genes = np.empty(0)\n",
    "tsv_info = []\n",
    "\n",
    "# cleanup and make outdir\n",
    "if os.path.exists(control_fasta):\n",
    "    os.remove(control_fasta)\n",
    "if os.path.exists(case_fasta):\n",
    "    os.remove(case_fasta)\n",
    "outdir = '/'.join(out_prefix.split('/')[:-1])\n",
    "subprocess.call(['mkdir', '-p', outdir])"
   ]
  },
  {
   "cell_type": "markdown",
   "metadata": {},
   "source": [
    "## Make deletion variants"
   ]
  },
  {
   "cell_type": "code",
   "execution_count": 5,
   "metadata": {},
   "outputs": [
    {
     "name": "stdout",
     "output_type": "stream",
     "text": [
      "Generating KRT79 deletion...\n",
      "Generating LOC105369807 deletion...\n",
      "Generating LOC105369932 deletion...\n",
      "Generating LINC00987 deletion...\n",
      "Generating RP5-944M2.2 deletion...\n",
      "Generating RP11-497G19.1 deletion...\n",
      "Generating TMEM132C deletion...\n",
      "Generating KRT6B deletion...\n",
      "Generating LOC105369701 deletion...\n",
      "Generating NECAP1 deletion...\n",
      "CPU times: user 46.9 s, sys: 356 ms, total: 47.3 s\n",
      "Wall time: 47.9 s\n"
     ]
    }
   ],
   "source": [
    "%%time\n",
    "%autoreload\n",
    "np.random.seed(seed_init)\n",
    "\n",
    "del_genes = np.random.choice(all_genes, n_vars, replace=False)\n",
    "var_genes = np.concatenate([var_genes, del_genes])\n",
    "\n",
    "for gene in del_genes:\n",
    "    print('Generating %s deletion...' % gene)\n",
    "    ex = [ex for ex in all_exons if simu.get_gene_name(ex) == gene][0]\n",
    "    tx, chrom = ex['transcript_id'], ex.chrom\n",
    "    varsize, exon = simu.write_indel(tx, all_exons, genome_fasta, \n",
    "                                     indel_range, out_prefix, vartype='DEL')\n",
    "    loc = simu.get_gene_loc(chrom, gene_trees, gene)\n",
    "    tsv_info.append([loc, tx, gene, varsize, exon, 'DEL'])"
   ]
  },
  {
   "cell_type": "markdown",
   "metadata": {},
   "source": [
    "## Make insertion variants"
   ]
  },
  {
   "cell_type": "code",
   "execution_count": 6,
   "metadata": {},
   "outputs": [
    {
     "name": "stdout",
     "output_type": "stream",
     "text": [
      "Generating LHX5-AS1 insertion...\n",
      "Generating LOC100507424 insertion...\n",
      "Generating SLC6A15 insertion...\n",
      "Generating LOC105369895 insertion...\n",
      "Generating PLA2G1B insertion...\n",
      "Generating CFAP73 insertion...\n",
      "Generating WDR66 insertion...\n",
      "Generating LOC101927058 insertion...\n",
      "Generating LOC107987178 insertion...\n",
      "Generating LOC105370003 insertion...\n",
      "CPU times: user 47.8 s, sys: 407 ms, total: 48.2 s\n",
      "Wall time: 48.9 s\n"
     ]
    }
   ],
   "source": [
    "%%time\n",
    "%autoreload\n",
    "np.random.seed(seed_init)\n",
    "\n",
    "available_genes = list(set(all_genes).symmetric_difference(var_genes))\n",
    "ins_genes = np.random.choice(available_genes, n_vars, replace=False)\n",
    "var_genes = np.concatenate([var_genes, ins_genes])\n",
    "\n",
    "for gene in ins_genes:\n",
    "    print('Generating %s insertion...' % gene)\n",
    "    ex = [ex for ex in all_exons if simu.get_gene_name(ex) == gene][0]\n",
    "    tx, chrom = ex['transcript_id'], ex.chrom\n",
    "    varsize, exon = simu.write_indel(tx, all_exons, genome_fasta,\n",
    "                                     indel_range, out_prefix, vartype='INS')\n",
    "    loc = simu.get_gene_loc(chrom, gene_trees, gene)\n",
    "    tsv_info.append([loc, tx, gene, varsize, exon, 'INS'])"
   ]
  },
  {
   "cell_type": "markdown",
   "metadata": {},
   "source": [
    "## Make ITDs"
   ]
  },
  {
   "cell_type": "code",
   "execution_count": 7,
   "metadata": {},
   "outputs": [
    {
     "name": "stdout",
     "output_type": "stream",
     "text": [
      "Generating RP11-850F7.7 ITD...\n",
      "Generating LIN7A ITD...\n",
      "Generating SMARCC2 ITD...\n",
      "Generating RP11-20D14.6 ITD...\n",
      "Generating BTBD11 ITD...\n",
      "Generating PXMP2 ITD...\n",
      "Generating HBCBP ITD...\n",
      "Generating RP11-780K2.1 ITD...\n",
      "Generating FAM186B ITD...\n",
      "Generating LOC105370018 ITD...\n",
      "CPU times: user 48 s, sys: 389 ms, total: 48.4 s\n",
      "Wall time: 49 s\n"
     ]
    }
   ],
   "source": [
    "%%time\n",
    "np.random.seed(seed_init)\n",
    "available_genes = list(set(all_genes).symmetric_difference(var_genes))\n",
    "itd_genes = np.random.choice(available_genes, n_vars, replace=False)\n",
    "var_genes = np.concatenate([var_genes, itd_genes])\n",
    "\n",
    "for gene in itd_genes:\n",
    "    print('Generating %s ITD...' % gene)\n",
    "    ex = [ex for ex in all_exons if simu.get_gene_name(ex) == gene][0]\n",
    "    tx, chrom = ex['transcript_id'], ex.chrom\n",
    "    varsize, exon = simu.write_indel(tx, all_exons, genome_fasta,\n",
    "                                     indel_range, out_prefix, vartype='ITD')\n",
    "    loc = simu.get_gene_loc(chrom, gene_trees, gene)\n",
    "    tsv_info.append([loc, tx, gene, varsize, exon, 'ITD'])"
   ]
  },
  {
   "cell_type": "markdown",
   "metadata": {},
   "source": [
    "## Make PTDs"
   ]
  },
  {
   "cell_type": "code",
   "execution_count": 8,
   "metadata": {},
   "outputs": [
    {
     "name": "stdout",
     "output_type": "stream",
     "text": [
      "Generating LOC105369728 PTD...\n",
      "Generating SLC4A8 PTD...\n",
      "Generating FAM216A PTD...\n",
      "Generating LOC105369985 PTD...\n",
      "Generating DPPA3 PTD...\n",
      "Generating LOC107984472 PTD...\n",
      "Generating RP11-756G20.1 PTD...\n",
      "Generating GNB3 PTD...\n",
      "Generating DYNLL1 PTD...\n",
      "Generating ZNF10 PTD...\n",
      "CPU times: user 50.2 s, sys: 382 ms, total: 50.6 s\n",
      "Wall time: 51.2 s\n"
     ]
    }
   ],
   "source": [
    "%%time\n",
    "%autoreload\n",
    "np.random.seed(seed_init)\n",
    "\n",
    "valid_txs, valid_genes = simu.get_valid_txs(all_exons, 2)\n",
    "valid_txs = np.unique([tx for tx, gn in valid_txs])\n",
    "\n",
    "available_genes = list(set(valid_genes).symmetric_difference(var_genes))\n",
    "ptd_genes = np.random.choice(available_genes, n_vars, replace=False)\n",
    "var_genes = np.concatenate([var_genes, ptd_genes])\n",
    "\n",
    "for gene in ptd_genes:\n",
    "    print('Generating %s PTD...' % gene)\n",
    "    exs = [ex for ex in all_exons if simu.get_gene_name(ex) == gene]\n",
    "    ex = [ex for ex in exs if ex['transcript_id'] in valid_txs][0]    \n",
    "    tx, chrom = ex['transcript_id'], ex.chrom\n",
    "    n_exons, exon = simu.write_large_tsv(tx, all_exons, genome_fasta,\n",
    "                                     out_prefix, exons_range, vartype='PTD')\n",
    "    loc = simu.get_gene_loc(chrom, gene_trees, gene)\n",
    "    tsv_info.append([loc, tx, gene, n_exons, exon, 'PTD'])"
   ]
  },
  {
   "cell_type": "markdown",
   "metadata": {},
   "source": [
    "## Make Inversions"
   ]
  },
  {
   "cell_type": "code",
   "execution_count": 9,
   "metadata": {},
   "outputs": [
    {
     "name": "stdout",
     "output_type": "stream",
     "text": [
      "Generating LOC105369906 inversion...\n",
      "Generating LOC101929162 inversion...\n",
      "Generating GTF2H3 inversion...\n",
      "Generating NCAPD2 inversion...\n",
      "Generating LOC105369151 inversion...\n",
      "Generating LOC105370087 inversion...\n",
      "Generating CD163L1 inversion...\n",
      "Generating EIF2B1 inversion...\n",
      "Generating RP11-277P12.9 inversion...\n",
      "Generating LOC105370067 inversion...\n",
      "CPU times: user 47.7 s, sys: 366 ms, total: 48.1 s\n",
      "Wall time: 48.7 s\n"
     ]
    }
   ],
   "source": [
    "%%time\n",
    "%autoreload\n",
    "np.random.seed(seed_init)\n",
    "\n",
    "available_genes = list(set(valid_genes).symmetric_difference(var_genes))\n",
    "inv_genes = np.random.choice(available_genes, n_vars, replace=False)\n",
    "var_genes = np.concatenate([var_genes, inv_genes])\n",
    "\n",
    "for gene in inv_genes:\n",
    "    print('Generating %s inversion...' % gene)\n",
    "    exs = [ex for ex in all_exons if simu.get_gene_name(ex) == gene]\n",
    "    ex = [ex for ex in exs if ex['transcript_id'] in valid_txs][0]    \n",
    "    tx, chrom = ex['transcript_id'], ex.chrom\n",
    "    n_exons, exon = simu.write_large_tsv(tx, all_exons, genome_fasta,\n",
    "                                         out_prefix, exons_range, vartype='INV')\n",
    "    loc = simu.get_gene_loc(chrom, gene_trees, gene)\n",
    "    tsv_info.append([loc, tx, gene, n_exons, exon, 'INV'])"
   ]
  },
  {
   "cell_type": "markdown",
   "metadata": {},
   "source": [
    "## Generate reads with Art"
   ]
  },
  {
   "cell_type": "code",
   "execution_count": 10,
   "metadata": {},
   "outputs": [
    {
     "name": "stdout",
     "output_type": "stream",
     "text": [
      "CPU times: user 2.06 ms, sys: 9.58 ms, total: 11.6 ms\n",
      "Wall time: 2.52 s\n"
     ]
    }
   ],
   "source": [
    "%%time\n",
    "# generate reads with art illumina\n",
    "np.random.seed(seed_init)\n",
    "seeds = np.random.randint(0, 99999, 2)\n",
    "\n",
    "# generate case sample\n",
    "subprocess.call([art_illumina, '-ss', 'HS25', '-i', case_fasta, \n",
    "                 '-p', '-l', str(read_len), '-f', str(fold), '-m', str(frag_size),\n",
    "                 '-s', str(frag_sd), '-rs', str(seeds[0]), '-o', '%s-case_R' % out_prefix])\n",
    "\n",
    "# generate control\n",
    "subprocess.call([art_illumina, '-ss', 'HS25', '-i', control_fasta, \n",
    "             '-p', '-l', str(read_len), '-f', str(fold), '-m', str(frag_size),\n",
    "             '-s', str(frag_sd), '-rs', str(seeds[1]), '-o', '%s-control_R' % out_prefix])"
   ]
  },
  {
   "cell_type": "code",
   "execution_count": 11,
   "metadata": {},
   "outputs": [
    {
     "name": "stdout",
     "output_type": "stream",
     "text": [
      "CPU times: user 3.48 ms, sys: 15.3 ms, total: 18.7 ms\n",
      "Wall time: 2.9 s\n"
     ]
    }
   ],
   "source": [
    "%%time\n",
    "for sample in ['case', 'control']:\n",
    "    for r in range(2):\n",
    "        outf = open('%s-%s_R%d.fastq.gz' % (out_prefix, sample, (r+1)), 'w')\n",
    "        subprocess.call(['gzip', '-c', '%s-%s_R%d.fq' % (out_prefix, sample, (r+1))], stdout=outf)\n",
    "        outf.close()"
   ]
  },
  {
   "cell_type": "code",
   "execution_count": 12,
   "metadata": {},
   "outputs": [],
   "source": [
    "info = pd.DataFrame(tsv_info, columns=['loc', 'tx', 'gene', 'size', 'exon', 'vartype'])\n",
    "info.to_csv('%s_simulated.tsv' % out_prefix, index=False, sep='\\t')"
   ]
  }
 ],
 "metadata": {
  "kernelspec": {
   "display_name": "Python 3",
   "language": "python",
   "name": "python3"
  },
  "language_info": {
   "codemirror_mode": {
    "name": "ipython",
    "version": 3
   },
   "file_extension": ".py",
   "mimetype": "text/x-python",
   "name": "python",
   "nbconvert_exporter": "python",
   "pygments_lexer": "ipython3",
   "version": "3.6.6"
  }
 },
 "nbformat": 4,
 "nbformat_minor": 2
}
