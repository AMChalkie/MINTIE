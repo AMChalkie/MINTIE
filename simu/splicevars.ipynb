{
 "cells": [
  {
   "cell_type": "code",
   "execution_count": 1,
   "metadata": {},
   "outputs": [],
   "source": [
    "import os\n",
    "import numpy as np\n",
    "import pandas as pd\n",
    "import pybedtools\n",
    "import simu\n",
    "import subprocess\n",
    "from pybedtools import BedTool\n",
    "from IPython.core.debugger import set_trace\n",
    "\n",
    "%load_ext autoreload\n",
    "\n",
    "# high-level parameters\n",
    "seed_init = 234\n",
    "n_vars = 10\n",
    "n_background_genes = 100\n",
    "min_exons = 3\n",
    "\n",
    "# simulation parameters\n",
    "block_range = (30, 200)\n",
    "\n",
    "# read generation parameters\n",
    "fold = 50\n",
    "frag_size = 300\n",
    "frag_sd = 20\n",
    "read_len = 150\n",
    "\n",
    "# references/output files\n",
    "art_illumina = '/Users/marek.cmero/apps/art_bin_MountRainier/ART_ILLUMINA'\n",
    "genome_fasta = '/Users/marek.cmero/reference/fastas/Homo_sapiens.GRCh38.dna.primary_assembly.fa'\n",
    "gtf_ref = '/Users/marek.cmero/reference/gtf/chess_mini_chr12_ref.gtf'\n",
    "junc_ref_file = '/Users/marek.cmero/reference/gtf/chess_mini_chr12_ref.info'\n",
    "out_prefix = '/Users/marek.cmero/Desktop/output/splicevars'\n",
    "control_fasta = '%s-control.fasta' % out_prefix\n",
    "case_fasta = '%s-case.fasta' % out_prefix"
   ]
  },
  {
   "cell_type": "code",
   "execution_count": 2,
   "metadata": {},
   "outputs": [
    {
     "data": {
      "text/plain": [
       "0"
      ]
     },
     "execution_count": 2,
     "metadata": {},
     "output_type": "execute_result"
    }
   ],
   "source": [
    "%autoreload\n",
    "# build GTF reference\n",
    "gr = BedTool(gtf_ref)\n",
    "junc_ref = simu.build_junc_ref(junc_ref_file)\n",
    "\n",
    "# make gene start/end reference\n",
    "gene_trees = simu.get_gene_features(gr)\n",
    "\n",
    "# get exons for records that have a gene name\n",
    "all_exons = gr.filter(lambda x: x[2] == 'exon').saveas()\n",
    "all_genes = np.unique([simu.get_gene_name(ex) for ex in all_exons if simu.get_gene_name(ex)!=''])\n",
    "var_genes = np.empty(0)\n",
    "splice_info = []\n",
    "\n",
    "# get valid txs\n",
    "valid_txs, valid_genes = simu.get_valid_txs(all_exons, min_exons)\n",
    "valid_txs = np.unique([tx for tx, gn in valid_txs])\n",
    "available_genes = [gene for gene in all_genes if gene in valid_genes]\n",
    "\n",
    "# cleanup and make outdir\n",
    "if os.path.exists(control_fasta):\n",
    "    os.remove(control_fasta)\n",
    "if os.path.exists(case_fasta):\n",
    "    os.remove(case_fasta)\n",
    "outdir = '/'.join(out_prefix.split('/')[:-1])\n",
    "subprocess.call(['mkdir', '-p', outdir])"
   ]
  },
  {
   "cell_type": "markdown",
   "metadata": {},
   "source": [
    "## Extended exon variants"
   ]
  },
  {
   "cell_type": "code",
   "execution_count": 3,
   "metadata": {},
   "outputs": [
    {
     "name": "stdout",
     "output_type": "stream",
     "text": [
      "Generating LOC105369720 extended exon...\n",
      "Generating ZCCHC8 extended exon...\n",
      "Generating GTSF1 extended exon...\n",
      "Generating WSB2 extended exon...\n",
      "Generating CDK4 extended exon...\n",
      "Generating STAT6 extended exon...\n",
      "Generating KRR1 extended exon...\n",
      "Generating LMNTD1 extended exon...\n",
      "Generating TM7SF3 extended exon...\n",
      "Generating SLC15A4 extended exon...\n",
      "CPU times: user 1min 50s, sys: 1.15 s, total: 1min 52s\n",
      "Wall time: 1min 58s\n"
     ]
    }
   ],
   "source": [
    "%%time\n",
    "%autoreload\n",
    "np.random.seed(seed_init)\n",
    "ee_genes, available_genes = simu.pick_genes(n_vars, available_genes)\n",
    "\n",
    "for gene in ee_genes:\n",
    "    print('Generating %s extended exon...' % gene)    \n",
    "    tx, loc, stats = simu.write_novel_exon(gene, valid_txs, all_exons,\n",
    "                                           genome_fasta, out_prefix, \n",
    "                                           block_range, gene_trees, vartype='EE')\n",
    "    splice_info.append([loc, tx, gene, stats['varsize'], stats['exon'], 'EE'])"
   ]
  },
  {
   "cell_type": "markdown",
   "metadata": {},
   "source": [
    "## Novel exon variants"
   ]
  },
  {
   "cell_type": "code",
   "execution_count": 4,
   "metadata": {},
   "outputs": [
    {
     "name": "stdout",
     "output_type": "stream",
     "text": [
      "Generating C12orf66 novel exon...\n",
      "Generating PLXNC1 novel exon...\n",
      "Generating SMAGP novel exon...\n",
      "Generating BCAT1 novel exon...\n",
      "Generating LGR5 novel exon...\n",
      "Generating LOC101927882 novel exon...\n",
      "Generating MYL2 novel exon...\n",
      "Generating RP1-166H1.2 novel exon...\n",
      "Generating RP11-121J20.1 novel exon...\n",
      "Generating C12orf40 novel exon...\n",
      "CPU times: user 1min 52s, sys: 1.24 s, total: 1min 54s\n",
      "Wall time: 2min 1s\n"
     ]
    }
   ],
   "source": [
    "%%time\n",
    "ne_genes, available_genes = simu.pick_genes(n_vars, available_genes)\n",
    "\n",
    "for gene in ne_genes:\n",
    "    print('Generating %s novel exon...' % gene)    \n",
    "    tx, loc, stats = simu.write_novel_exon(gene, valid_txs, all_exons,\n",
    "                                           genome_fasta, out_prefix, \n",
    "                                           block_range, gene_trees, vartype='NE')\n",
    "    splice_info.append([loc, tx, gene, stats['varsize'], stats['exon'], 'NE'])"
   ]
  },
  {
   "cell_type": "markdown",
   "metadata": {},
   "source": [
    "## Retained intron variants"
   ]
  },
  {
   "cell_type": "code",
   "execution_count": 5,
   "metadata": {},
   "outputs": [
    {
     "name": "stdout",
     "output_type": "stream",
     "text": [
      "Generating ERBB3 retained intron...\n",
      "Generating LOC105369859 retained intron...\n",
      "Generating PRH2 retained intron...\n",
      "Generating LOC105369632 retained intron...\n",
      "Generating KANSL2 retained intron...\n",
      "Generating ELK3 retained intron...\n",
      "Generating LOC101927019 retained intron...\n",
      "Generating TRHDE retained intron...\n",
      "Generating LOC100506159 retained intron...\n",
      "Generating ETFBKMT retained intron...\n",
      "CPU times: user 1min 44s, sys: 1.01 s, total: 1min 45s\n",
      "Wall time: 1min 49s\n"
     ]
    }
   ],
   "source": [
    "%%time\n",
    "ri_genes, available_genes = simu.pick_genes(n_vars, available_genes)\n",
    "\n",
    "for gene in ri_genes:\n",
    "    print('Generating %s retained intron...' % gene)    \n",
    "    tx, loc, stats = simu.write_novel_exon(gene, valid_txs, all_exons,\n",
    "                                           genome_fasta, out_prefix, \n",
    "                                           block_range, gene_trees, vartype='RI')\n",
    "    splice_info.append([loc, tx, gene, stats['varsize'], stats['exon'], 'RI'])"
   ]
  },
  {
   "cell_type": "markdown",
   "metadata": {},
   "source": [
    "## Truncated exon variants\n",
    "\n",
    "Truncate adjacent exons to create novel exon junction variant."
   ]
  },
  {
   "cell_type": "code",
   "execution_count": 6,
   "metadata": {},
   "outputs": [
    {
     "name": "stdout",
     "output_type": "stream",
     "text": [
      "Generating LDHB truncated exon...\n",
      "Generating BLOC1S1-RDH5 truncated exon...\n",
      "Generating FRS2 truncated exon...\n",
      "Generating RPS26 truncated exon...\n",
      "Generating LOC105369686 truncated exon...\n",
      "Generating ANAPC7 truncated exon...\n",
      "Generating LOC105369609 truncated exon...\n",
      "Generating LOC105369890 truncated exon...\n",
      "Generating DRAM1 truncated exon...\n",
      "Generating FAM66C truncated exon...\n",
      "CPU times: user 1min 42s, sys: 832 ms, total: 1min 43s\n",
      "Wall time: 1min 46s\n"
     ]
    }
   ],
   "source": [
    "%%time\n",
    "\n",
    "nej_genes, available_genes = simu.pick_genes(n_vars, available_genes)\n",
    "\n",
    "for gene in nej_genes:\n",
    "    print('Generating %s truncated exon...' % gene)\n",
    "    \n",
    "    tx = simu.get_transcripts(gene, all_exons, valid_txs=valid_txs)[0]\n",
    "    varsize, exon = simu.write_trunc_exons(tx, all_exons, genome_fasta, out_prefix, block_range)\n",
    "\n",
    "    chrom = simu.get_tx_chrom(tx, all_exons)\n",
    "    loc = simu.get_gene_loc(chrom, gene_trees, gene)\n",
    "    splice_info.append([loc, tx, gene, varsize, exon, 'NEJ'])"
   ]
  },
  {
   "cell_type": "markdown",
   "metadata": {},
   "source": [
    "## Make unannotated splice variants"
   ]
  },
  {
   "cell_type": "code",
   "execution_count": 8,
   "metadata": {},
   "outputs": [
    {
     "name": "stdout",
     "output_type": "stream",
     "text": [
      "Generating RILPL1 unannotated splice variant...\n",
      "Generating LOC105370029 unannotated splice variant...\n",
      "Generating HECTD4 unannotated splice variant...\n",
      "Generating CDCA3 unannotated splice variant...\n",
      "Generating LOC105369607 unannotated splice variant...\n",
      "Generating LOC105369958 unannotated splice variant...\n",
      "Generating CLEC2D unannotated splice variant...\n",
      "Generating RNF10 unannotated splice variant...\n",
      "Generating LOC100506551 unannotated splice variant...\n",
      "Generating FGD4 unannotated splice variant...\n"
     ]
    }
   ],
   "source": [
    "# %%time\n",
    "%autoreload\n",
    "\n",
    "us_genes, available_genes = simu.pick_genes(n_vars, available_genes)\n",
    "\n",
    "for gene in us_genes:\n",
    "    print('Generating %s unannotated splice variant...' % gene)\n",
    "    tx, loc, stats = simu.write_unannot_splice(gene, all_exons, valid_txs, genome_fasta,\n",
    "                                               out_prefix, junc_ref, gene_trees)\n",
    "    splice_info.append([loc, tx, gene, varsize, exon, 'US'])"
   ]
  },
  {
   "cell_type": "markdown",
   "metadata": {},
   "source": [
    "## Compile info on variants"
   ]
  },
  {
   "cell_type": "code",
   "execution_count": null,
   "metadata": {},
   "outputs": [],
   "source": [
    "info = pd.DataFrame(splice_info, columns=['loc', 'tx', 'gene', 'size', 'exon', 'vartype'])\n",
    "info.to_csv('%s_simulated.tsv' % out_prefix, index=False, sep='\\t')"
   ]
  },
  {
   "cell_type": "markdown",
   "metadata": {},
   "source": [
    "## Generate reads"
   ]
  },
  {
   "cell_type": "code",
   "execution_count": null,
   "metadata": {},
   "outputs": [],
   "source": [
    "%%time\n",
    "# generate reads with art illumina\n",
    "seeds = np.random.randint(0, 99999, 2)\n",
    "\n",
    "# generate case sample\n",
    "subprocess.call([art_illumina, '-ss', 'HS25', '-i', case_fasta, \n",
    "                 '-p', '-l', str(read_len), '-f', str(fold), '-m', str(frag_size),\n",
    "                 '-s', str(frag_sd), '-rs', str(seeds[0]), '-o', '%s-case_R' % out_prefix])\n",
    "\n",
    "# generate control\n",
    "subprocess.call([art_illumina, '-ss', 'HS25', '-i', control_fasta, \n",
    "             '-p', '-l', str(read_len), '-f', str(fold), '-m', str(frag_size),\n",
    "             '-s', str(frag_sd), '-rs', str(seeds[1]), '-o', '%s-control_R' % out_prefix])\n",
    "\n",
    "# gzip files\n",
    "for sample in ['case', 'control']:\n",
    "    for r in range(2):\n",
    "        outf = open('%s-%s_R%d.fastq.gz' % (out_prefix, sample, (r+1)), 'w')\n",
    "        subprocess.call(['gzip', '-c', '%s-%s_R%d.fq' % (out_prefix, sample, (r+1))], stdout=outf)\n",
    "        outf.close()"
   ]
  }
 ],
 "metadata": {
  "kernelspec": {
   "display_name": "Python 3",
   "language": "python",
   "name": "python3"
  },
  "language_info": {
   "codemirror_mode": {
    "name": "ipython",
    "version": 3
   },
   "file_extension": ".py",
   "mimetype": "text/x-python",
   "name": "python",
   "nbconvert_exporter": "python",
   "pygments_lexer": "ipython3",
   "version": "3.6.6"
  }
 },
 "nbformat": 4,
 "nbformat_minor": 2
}
